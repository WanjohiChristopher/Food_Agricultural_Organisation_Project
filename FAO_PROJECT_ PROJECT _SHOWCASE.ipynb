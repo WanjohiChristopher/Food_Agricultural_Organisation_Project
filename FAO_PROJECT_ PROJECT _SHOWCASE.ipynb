{
 "cells": [
  {
   "cell_type": "markdown",
   "metadata": {},
   "source": [
    "## PROBLEM STATEMENT\n",
    ".\n",
    ".\n",
    ".\n",
    ".\n",
    "##### Description\n",
    "###### Context\n",
    "Our world population is expected to grow from 7.3 billion today to 9.7 billion in the year 2050. Finding solutions for feeding the growing world population has become a hot topic for food and agriculture organizations, entrepreneurs and philanthropists. These solutions range from changing the way we grow our food to changing the way we eat. To make things harder, the world's climate is changing and it is both affecting and affected by the way we grow our food – agriculture.\n",
    "This dataset provides an insight on our worldwide food production - focusing on a comparison between food produced for human consumption and feed produced for animals.\n",
    "\n",
    "###### Content\n",
    "The Food and Agriculture Organization of the United Nations provides free access to food and agriculture data for over 245 countries and territories, from the year 1961 to the most recent update (depends on the dataset). One dataset from the FAO's database is the Food Balance Sheets. It presents a comprehensive picture of the pattern of a country's food supply during a specified reference period, the last time an update was loaded to the FAO database was in 2013. The food balance sheet shows for each food item the sources of supply and its utilization. This chunk of the dataset is focused on two utilizations of each food item available:\n",
    "\n",
    "Food \n",
    "- refers to the total amount of the food item available as human food during the reference period.\n",
    "\n",
    "Feed\n",
    "- refers to the quantity of the food item available for feeding to the livestock and poultry during the reference period.\n",
    "Acknowledgements\n",
    "This dataset was meticulously gathered, organized and published by the Food and Agriculture Organization of the United Nations.\n",
    "\n",
    "Inspiration\n",
    "Animal agriculture and factory farming is a a growing interest of the public and of world leaders.\n",
    "\n",
    "Can you find interesting outliers in the data?\n",
    "What are the fastest growing countries in terms of food production\\consumption?\n",
    "Compare between food and feed consumption."
   ]
  },
  {
   "cell_type": "markdown",
   "metadata": {},
   "source": [
    "## METHODOLOGY /BUSINESS OBJECTIVES TO ACHIEVE:\n",
    "\n",
    "@@@@\n",
    "\n",
    "1.Understsnd the highest producers and consumers of certain goods.\n",
    "\n",
    "2.Understand highly consumed element i.e food or feed.\n",
    "\n",
    "3.Understand the year with highest produce.\n",
    "\n",
    "4.Define most optimum areas to grow certain items(foods).\n",
    "\n",
    "5.Map the areas with higher production maybe in terms of continent(geographical map).\n",
    "\n",
    "6.Determining the area with highest (units) in terms of tonnes."
   ]
  },
  {
   "cell_type": "markdown",
   "metadata": {},
   "source": [
    "#### IMPORTING LIBRARIES"
   ]
  },
  {
   "cell_type": "code",
   "execution_count": null,
   "metadata": {},
   "outputs": [],
   "source": [
    "import pandas as pd\n",
    "import numpy as np\n",
    "import matplotlib.pyplot as plt\n",
    "import seaborn as sns\n",
    "\n",
    "%matplotlib inline"
   ]
  },
  {
   "cell_type": "code",
   "execution_count": 1,
   "metadata": {},
   "outputs": [],
   "source": []
  },
  {
   "cell_type": "markdown",
   "metadata": {},
   "source": [
    "#### Data understanding"
   ]
  },
  {
   "cell_type": "code",
   "execution_count": 2,
   "metadata": {},
   "outputs": [],
   "source": [
    "#loading our dataset\n",
    "fao_df=pd.read_csv(\"FAO.csv\",encoding='latin-1')"
   ]
  },
  {
   "cell_type": "code",
   "execution_count": 3,
   "metadata": {},
   "outputs": [
    {
     "data": {
      "text/html": [
       "<div>\n",
       "<style scoped>\n",
       "    .dataframe tbody tr th:only-of-type {\n",
       "        vertical-align: middle;\n",
       "    }\n",
       "\n",
       "    .dataframe tbody tr th {\n",
       "        vertical-align: top;\n",
       "    }\n",
       "\n",
       "    .dataframe thead th {\n",
       "        text-align: right;\n",
       "    }\n",
       "</style>\n",
       "<table border=\"1\" class=\"dataframe\">\n",
       "  <thead>\n",
       "    <tr style=\"text-align: right;\">\n",
       "      <th></th>\n",
       "      <th>Area Abbreviation</th>\n",
       "      <th>Area Code</th>\n",
       "      <th>Area</th>\n",
       "      <th>Item Code</th>\n",
       "      <th>Item</th>\n",
       "      <th>Element Code</th>\n",
       "      <th>Element</th>\n",
       "      <th>Unit</th>\n",
       "      <th>latitude</th>\n",
       "      <th>longitude</th>\n",
       "      <th>...</th>\n",
       "      <th>Y2004</th>\n",
       "      <th>Y2005</th>\n",
       "      <th>Y2006</th>\n",
       "      <th>Y2007</th>\n",
       "      <th>Y2008</th>\n",
       "      <th>Y2009</th>\n",
       "      <th>Y2010</th>\n",
       "      <th>Y2011</th>\n",
       "      <th>Y2012</th>\n",
       "      <th>Y2013</th>\n",
       "    </tr>\n",
       "  </thead>\n",
       "  <tbody>\n",
       "    <tr>\n",
       "      <th>0</th>\n",
       "      <td>AFG</td>\n",
       "      <td>2</td>\n",
       "      <td>Afghanistan</td>\n",
       "      <td>2511</td>\n",
       "      <td>Wheat and products</td>\n",
       "      <td>5142</td>\n",
       "      <td>Food</td>\n",
       "      <td>1000 tonnes</td>\n",
       "      <td>33.94</td>\n",
       "      <td>67.71</td>\n",
       "      <td>...</td>\n",
       "      <td>3249.0</td>\n",
       "      <td>3486.0</td>\n",
       "      <td>3704.0</td>\n",
       "      <td>4164.0</td>\n",
       "      <td>4252.0</td>\n",
       "      <td>4538.0</td>\n",
       "      <td>4605.0</td>\n",
       "      <td>4711.0</td>\n",
       "      <td>4810</td>\n",
       "      <td>4895</td>\n",
       "    </tr>\n",
       "    <tr>\n",
       "      <th>1</th>\n",
       "      <td>AFG</td>\n",
       "      <td>2</td>\n",
       "      <td>Afghanistan</td>\n",
       "      <td>2805</td>\n",
       "      <td>Rice (Milled Equivalent)</td>\n",
       "      <td>5142</td>\n",
       "      <td>Food</td>\n",
       "      <td>1000 tonnes</td>\n",
       "      <td>33.94</td>\n",
       "      <td>67.71</td>\n",
       "      <td>...</td>\n",
       "      <td>419.0</td>\n",
       "      <td>445.0</td>\n",
       "      <td>546.0</td>\n",
       "      <td>455.0</td>\n",
       "      <td>490.0</td>\n",
       "      <td>415.0</td>\n",
       "      <td>442.0</td>\n",
       "      <td>476.0</td>\n",
       "      <td>425</td>\n",
       "      <td>422</td>\n",
       "    </tr>\n",
       "    <tr>\n",
       "      <th>2</th>\n",
       "      <td>AFG</td>\n",
       "      <td>2</td>\n",
       "      <td>Afghanistan</td>\n",
       "      <td>2513</td>\n",
       "      <td>Barley and products</td>\n",
       "      <td>5521</td>\n",
       "      <td>Feed</td>\n",
       "      <td>1000 tonnes</td>\n",
       "      <td>33.94</td>\n",
       "      <td>67.71</td>\n",
       "      <td>...</td>\n",
       "      <td>58.0</td>\n",
       "      <td>236.0</td>\n",
       "      <td>262.0</td>\n",
       "      <td>263.0</td>\n",
       "      <td>230.0</td>\n",
       "      <td>379.0</td>\n",
       "      <td>315.0</td>\n",
       "      <td>203.0</td>\n",
       "      <td>367</td>\n",
       "      <td>360</td>\n",
       "    </tr>\n",
       "    <tr>\n",
       "      <th>3</th>\n",
       "      <td>AFG</td>\n",
       "      <td>2</td>\n",
       "      <td>Afghanistan</td>\n",
       "      <td>2513</td>\n",
       "      <td>Barley and products</td>\n",
       "      <td>5142</td>\n",
       "      <td>Food</td>\n",
       "      <td>1000 tonnes</td>\n",
       "      <td>33.94</td>\n",
       "      <td>67.71</td>\n",
       "      <td>...</td>\n",
       "      <td>185.0</td>\n",
       "      <td>43.0</td>\n",
       "      <td>44.0</td>\n",
       "      <td>48.0</td>\n",
       "      <td>62.0</td>\n",
       "      <td>55.0</td>\n",
       "      <td>60.0</td>\n",
       "      <td>72.0</td>\n",
       "      <td>78</td>\n",
       "      <td>89</td>\n",
       "    </tr>\n",
       "    <tr>\n",
       "      <th>4</th>\n",
       "      <td>AFG</td>\n",
       "      <td>2</td>\n",
       "      <td>Afghanistan</td>\n",
       "      <td>2514</td>\n",
       "      <td>Maize and products</td>\n",
       "      <td>5521</td>\n",
       "      <td>Feed</td>\n",
       "      <td>1000 tonnes</td>\n",
       "      <td>33.94</td>\n",
       "      <td>67.71</td>\n",
       "      <td>...</td>\n",
       "      <td>120.0</td>\n",
       "      <td>208.0</td>\n",
       "      <td>233.0</td>\n",
       "      <td>249.0</td>\n",
       "      <td>247.0</td>\n",
       "      <td>195.0</td>\n",
       "      <td>178.0</td>\n",
       "      <td>191.0</td>\n",
       "      <td>200</td>\n",
       "      <td>200</td>\n",
       "    </tr>\n",
       "  </tbody>\n",
       "</table>\n",
       "<p>5 rows × 63 columns</p>\n",
       "</div>"
      ],
      "text/plain": [
       "  Area Abbreviation  Area Code         Area  Item Code  \\\n",
       "0               AFG          2  Afghanistan       2511   \n",
       "1               AFG          2  Afghanistan       2805   \n",
       "2               AFG          2  Afghanistan       2513   \n",
       "3               AFG          2  Afghanistan       2513   \n",
       "4               AFG          2  Afghanistan       2514   \n",
       "\n",
       "                       Item  Element Code Element         Unit  latitude  \\\n",
       "0        Wheat and products          5142    Food  1000 tonnes     33.94   \n",
       "1  Rice (Milled Equivalent)          5142    Food  1000 tonnes     33.94   \n",
       "2       Barley and products          5521    Feed  1000 tonnes     33.94   \n",
       "3       Barley and products          5142    Food  1000 tonnes     33.94   \n",
       "4        Maize and products          5521    Feed  1000 tonnes     33.94   \n",
       "\n",
       "   longitude  ...   Y2004   Y2005   Y2006   Y2007   Y2008   Y2009   Y2010  \\\n",
       "0      67.71  ...  3249.0  3486.0  3704.0  4164.0  4252.0  4538.0  4605.0   \n",
       "1      67.71  ...   419.0   445.0   546.0   455.0   490.0   415.0   442.0   \n",
       "2      67.71  ...    58.0   236.0   262.0   263.0   230.0   379.0   315.0   \n",
       "3      67.71  ...   185.0    43.0    44.0    48.0    62.0    55.0    60.0   \n",
       "4      67.71  ...   120.0   208.0   233.0   249.0   247.0   195.0   178.0   \n",
       "\n",
       "    Y2011  Y2012  Y2013  \n",
       "0  4711.0   4810   4895  \n",
       "1   476.0    425    422  \n",
       "2   203.0    367    360  \n",
       "3    72.0     78     89  \n",
       "4   191.0    200    200  \n",
       "\n",
       "[5 rows x 63 columns]"
      ]
     },
     "execution_count": 3,
     "metadata": {},
     "output_type": "execute_result"
    }
   ],
   "source": [
    "#checking first 5 rows\n",
    "fao_df.head()"
   ]
  },
  {
   "cell_type": "code",
   "execution_count": 4,
   "metadata": {},
   "outputs": [
    {
     "data": {
      "text/html": [
       "<div>\n",
       "<style scoped>\n",
       "    .dataframe tbody tr th:only-of-type {\n",
       "        vertical-align: middle;\n",
       "    }\n",
       "\n",
       "    .dataframe tbody tr th {\n",
       "        vertical-align: top;\n",
       "    }\n",
       "\n",
       "    .dataframe thead th {\n",
       "        text-align: right;\n",
       "    }\n",
       "</style>\n",
       "<table border=\"1\" class=\"dataframe\">\n",
       "  <thead>\n",
       "    <tr style=\"text-align: right;\">\n",
       "      <th></th>\n",
       "      <th>Area Abbreviation</th>\n",
       "      <th>Area Code</th>\n",
       "      <th>Area</th>\n",
       "      <th>Item Code</th>\n",
       "      <th>Item</th>\n",
       "      <th>Element Code</th>\n",
       "      <th>Element</th>\n",
       "      <th>Unit</th>\n",
       "      <th>latitude</th>\n",
       "      <th>longitude</th>\n",
       "      <th>...</th>\n",
       "      <th>Y2004</th>\n",
       "      <th>Y2005</th>\n",
       "      <th>Y2006</th>\n",
       "      <th>Y2007</th>\n",
       "      <th>Y2008</th>\n",
       "      <th>Y2009</th>\n",
       "      <th>Y2010</th>\n",
       "      <th>Y2011</th>\n",
       "      <th>Y2012</th>\n",
       "      <th>Y2013</th>\n",
       "    </tr>\n",
       "  </thead>\n",
       "  <tbody>\n",
       "    <tr>\n",
       "      <th>21472</th>\n",
       "      <td>ZWE</td>\n",
       "      <td>181</td>\n",
       "      <td>Zimbabwe</td>\n",
       "      <td>2948</td>\n",
       "      <td>Milk - Excluding Butter</td>\n",
       "      <td>5142</td>\n",
       "      <td>Food</td>\n",
       "      <td>1000 tonnes</td>\n",
       "      <td>-19.02</td>\n",
       "      <td>29.15</td>\n",
       "      <td>...</td>\n",
       "      <td>373.0</td>\n",
       "      <td>357.0</td>\n",
       "      <td>359.0</td>\n",
       "      <td>356.0</td>\n",
       "      <td>341.0</td>\n",
       "      <td>385.0</td>\n",
       "      <td>418.0</td>\n",
       "      <td>457.0</td>\n",
       "      <td>426</td>\n",
       "      <td>451</td>\n",
       "    </tr>\n",
       "    <tr>\n",
       "      <th>21473</th>\n",
       "      <td>ZWE</td>\n",
       "      <td>181</td>\n",
       "      <td>Zimbabwe</td>\n",
       "      <td>2960</td>\n",
       "      <td>Fish, Seafood</td>\n",
       "      <td>5521</td>\n",
       "      <td>Feed</td>\n",
       "      <td>1000 tonnes</td>\n",
       "      <td>-19.02</td>\n",
       "      <td>29.15</td>\n",
       "      <td>...</td>\n",
       "      <td>5.0</td>\n",
       "      <td>4.0</td>\n",
       "      <td>9.0</td>\n",
       "      <td>6.0</td>\n",
       "      <td>9.0</td>\n",
       "      <td>5.0</td>\n",
       "      <td>15.0</td>\n",
       "      <td>15.0</td>\n",
       "      <td>15</td>\n",
       "      <td>15</td>\n",
       "    </tr>\n",
       "    <tr>\n",
       "      <th>21474</th>\n",
       "      <td>ZWE</td>\n",
       "      <td>181</td>\n",
       "      <td>Zimbabwe</td>\n",
       "      <td>2960</td>\n",
       "      <td>Fish, Seafood</td>\n",
       "      <td>5142</td>\n",
       "      <td>Food</td>\n",
       "      <td>1000 tonnes</td>\n",
       "      <td>-19.02</td>\n",
       "      <td>29.15</td>\n",
       "      <td>...</td>\n",
       "      <td>18.0</td>\n",
       "      <td>14.0</td>\n",
       "      <td>17.0</td>\n",
       "      <td>14.0</td>\n",
       "      <td>15.0</td>\n",
       "      <td>18.0</td>\n",
       "      <td>29.0</td>\n",
       "      <td>40.0</td>\n",
       "      <td>40</td>\n",
       "      <td>40</td>\n",
       "    </tr>\n",
       "    <tr>\n",
       "      <th>21475</th>\n",
       "      <td>ZWE</td>\n",
       "      <td>181</td>\n",
       "      <td>Zimbabwe</td>\n",
       "      <td>2961</td>\n",
       "      <td>Aquatic Products, Other</td>\n",
       "      <td>5142</td>\n",
       "      <td>Food</td>\n",
       "      <td>1000 tonnes</td>\n",
       "      <td>-19.02</td>\n",
       "      <td>29.15</td>\n",
       "      <td>...</td>\n",
       "      <td>0.0</td>\n",
       "      <td>0.0</td>\n",
       "      <td>0.0</td>\n",
       "      <td>0.0</td>\n",
       "      <td>0.0</td>\n",
       "      <td>0.0</td>\n",
       "      <td>0.0</td>\n",
       "      <td>0.0</td>\n",
       "      <td>0</td>\n",
       "      <td>0</td>\n",
       "    </tr>\n",
       "    <tr>\n",
       "      <th>21476</th>\n",
       "      <td>ZWE</td>\n",
       "      <td>181</td>\n",
       "      <td>Zimbabwe</td>\n",
       "      <td>2928</td>\n",
       "      <td>Miscellaneous</td>\n",
       "      <td>5142</td>\n",
       "      <td>Food</td>\n",
       "      <td>1000 tonnes</td>\n",
       "      <td>-19.02</td>\n",
       "      <td>29.15</td>\n",
       "      <td>...</td>\n",
       "      <td>0.0</td>\n",
       "      <td>0.0</td>\n",
       "      <td>0.0</td>\n",
       "      <td>0.0</td>\n",
       "      <td>0.0</td>\n",
       "      <td>0.0</td>\n",
       "      <td>0.0</td>\n",
       "      <td>0.0</td>\n",
       "      <td>0</td>\n",
       "      <td>0</td>\n",
       "    </tr>\n",
       "  </tbody>\n",
       "</table>\n",
       "<p>5 rows × 63 columns</p>\n",
       "</div>"
      ],
      "text/plain": [
       "      Area Abbreviation  Area Code      Area  Item Code  \\\n",
       "21472               ZWE        181  Zimbabwe       2948   \n",
       "21473               ZWE        181  Zimbabwe       2960   \n",
       "21474               ZWE        181  Zimbabwe       2960   \n",
       "21475               ZWE        181  Zimbabwe       2961   \n",
       "21476               ZWE        181  Zimbabwe       2928   \n",
       "\n",
       "                          Item  Element Code Element         Unit  latitude  \\\n",
       "21472  Milk - Excluding Butter          5142    Food  1000 tonnes    -19.02   \n",
       "21473            Fish, Seafood          5521    Feed  1000 tonnes    -19.02   \n",
       "21474            Fish, Seafood          5142    Food  1000 tonnes    -19.02   \n",
       "21475  Aquatic Products, Other          5142    Food  1000 tonnes    -19.02   \n",
       "21476            Miscellaneous          5142    Food  1000 tonnes    -19.02   \n",
       "\n",
       "       longitude  ...  Y2004  Y2005  Y2006  Y2007  Y2008  Y2009  Y2010  Y2011  \\\n",
       "21472      29.15  ...  373.0  357.0  359.0  356.0  341.0  385.0  418.0  457.0   \n",
       "21473      29.15  ...    5.0    4.0    9.0    6.0    9.0    5.0   15.0   15.0   \n",
       "21474      29.15  ...   18.0   14.0   17.0   14.0   15.0   18.0   29.0   40.0   \n",
       "21475      29.15  ...    0.0    0.0    0.0    0.0    0.0    0.0    0.0    0.0   \n",
       "21476      29.15  ...    0.0    0.0    0.0    0.0    0.0    0.0    0.0    0.0   \n",
       "\n",
       "       Y2012  Y2013  \n",
       "21472    426    451  \n",
       "21473     15     15  \n",
       "21474     40     40  \n",
       "21475      0      0  \n",
       "21476      0      0  \n",
       "\n",
       "[5 rows x 63 columns]"
      ]
     },
     "execution_count": 4,
     "metadata": {},
     "output_type": "execute_result"
    }
   ],
   "source": [
    "#checking first 5 rows\n",
    "fao_df.tail()"
   ]
  },
  {
   "cell_type": "code",
   "execution_count": 5,
   "metadata": {},
   "outputs": [
    {
     "name": "stdout",
     "output_type": "stream",
     "text": [
      "<class 'pandas.core.frame.DataFrame'>\n",
      "RangeIndex: 21477 entries, 0 to 21476\n",
      "Data columns (total 63 columns):\n",
      " #   Column             Non-Null Count  Dtype  \n",
      "---  ------             --------------  -----  \n",
      " 0   Area Abbreviation  21477 non-null  object \n",
      " 1   Area Code          21477 non-null  int64  \n",
      " 2   Area               21477 non-null  object \n",
      " 3   Item Code          21477 non-null  int64  \n",
      " 4   Item               21477 non-null  object \n",
      " 5   Element Code       21477 non-null  int64  \n",
      " 6   Element            21477 non-null  object \n",
      " 7   Unit               21477 non-null  object \n",
      " 8   latitude           21477 non-null  float64\n",
      " 9   longitude          21477 non-null  float64\n",
      " 10  Y1961              17938 non-null  float64\n",
      " 11  Y1962              17938 non-null  float64\n",
      " 12  Y1963              17938 non-null  float64\n",
      " 13  Y1964              17938 non-null  float64\n",
      " 14  Y1965              17938 non-null  float64\n",
      " 15  Y1966              17938 non-null  float64\n",
      " 16  Y1967              17938 non-null  float64\n",
      " 17  Y1968              17938 non-null  float64\n",
      " 18  Y1969              17938 non-null  float64\n",
      " 19  Y1970              17938 non-null  float64\n",
      " 20  Y1971              17938 non-null  float64\n",
      " 21  Y1972              17938 non-null  float64\n",
      " 22  Y1973              17938 non-null  float64\n",
      " 23  Y1974              17938 non-null  float64\n",
      " 24  Y1975              17938 non-null  float64\n",
      " 25  Y1976              17938 non-null  float64\n",
      " 26  Y1977              17938 non-null  float64\n",
      " 27  Y1978              17938 non-null  float64\n",
      " 28  Y1979              17938 non-null  float64\n",
      " 29  Y1980              17938 non-null  float64\n",
      " 30  Y1981              17938 non-null  float64\n",
      " 31  Y1982              17938 non-null  float64\n",
      " 32  Y1983              17938 non-null  float64\n",
      " 33  Y1984              17938 non-null  float64\n",
      " 34  Y1985              17938 non-null  float64\n",
      " 35  Y1986              17938 non-null  float64\n",
      " 36  Y1987              17938 non-null  float64\n",
      " 37  Y1988              17938 non-null  float64\n",
      " 38  Y1989              17938 non-null  float64\n",
      " 39  Y1990              18062 non-null  float64\n",
      " 40  Y1991              18062 non-null  float64\n",
      " 41  Y1992              20490 non-null  float64\n",
      " 42  Y1993              20865 non-null  float64\n",
      " 43  Y1994              20865 non-null  float64\n",
      " 44  Y1995              20865 non-null  float64\n",
      " 45  Y1996              20865 non-null  float64\n",
      " 46  Y1997              20865 non-null  float64\n",
      " 47  Y1998              20865 non-null  float64\n",
      " 48  Y1999              20865 non-null  float64\n",
      " 49  Y2000              21128 non-null  float64\n",
      " 50  Y2001              21128 non-null  float64\n",
      " 51  Y2002              21128 non-null  float64\n",
      " 52  Y2003              21128 non-null  float64\n",
      " 53  Y2004              21128 non-null  float64\n",
      " 54  Y2005              21128 non-null  float64\n",
      " 55  Y2006              21373 non-null  float64\n",
      " 56  Y2007              21373 non-null  float64\n",
      " 57  Y2008              21373 non-null  float64\n",
      " 58  Y2009              21373 non-null  float64\n",
      " 59  Y2010              21373 non-null  float64\n",
      " 60  Y2011              21373 non-null  float64\n",
      " 61  Y2012              21477 non-null  int64  \n",
      " 62  Y2013              21477 non-null  int64  \n",
      "dtypes: float64(53), int64(5), object(5)\n",
      "memory usage: 10.3+ MB\n"
     ]
    }
   ],
   "source": [
    "#checking information of the data\n",
    "fao_df.info()"
   ]
  },
  {
   "cell_type": "code",
   "execution_count": 6,
   "metadata": {},
   "outputs": [
    {
     "name": "stdout",
     "output_type": "stream",
     "text": [
      "Fao has  (21477, 63) rows and columns respectively\n"
     ]
    }
   ],
   "source": [
    "#checking dimensions of the data\n",
    "\n",
    "print('Fao has ',fao_df.shape,'rows and columns respectively')"
   ]
  },
  {
   "cell_type": "code",
   "execution_count": 7,
   "metadata": {},
   "outputs": [
    {
     "data": {
      "text/plain": [
       "Index(['Area Abbreviation', 'Area Code', 'Area', 'Item Code', 'Item',\n",
       "       'Element Code', 'Element', 'Unit', 'latitude', 'longitude', 'Y1961',\n",
       "       'Y1962', 'Y1963', 'Y1964', 'Y1965', 'Y1966', 'Y1967', 'Y1968', 'Y1969',\n",
       "       'Y1970', 'Y1971', 'Y1972', 'Y1973', 'Y1974', 'Y1975', 'Y1976', 'Y1977',\n",
       "       'Y1978', 'Y1979', 'Y1980', 'Y1981', 'Y1982', 'Y1983', 'Y1984', 'Y1985',\n",
       "       'Y1986', 'Y1987', 'Y1988', 'Y1989', 'Y1990', 'Y1991', 'Y1992', 'Y1993',\n",
       "       'Y1994', 'Y1995', 'Y1996', 'Y1997', 'Y1998', 'Y1999', 'Y2000', 'Y2001',\n",
       "       'Y2002', 'Y2003', 'Y2004', 'Y2005', 'Y2006', 'Y2007', 'Y2008', 'Y2009',\n",
       "       'Y2010', 'Y2011', 'Y2012', 'Y2013'],\n",
       "      dtype='object')"
      ]
     },
     "execution_count": 7,
     "metadata": {},
     "output_type": "execute_result"
    }
   ],
   "source": [
    "#checking columns of the dataset\n",
    "fao_df.columns"
   ]
  },
  {
   "cell_type": "code",
   "execution_count": 8,
   "metadata": {},
   "outputs": [
    {
     "data": {
      "text/plain": [
       "Area Abbreviation     169\n",
       "Area Code             174\n",
       "Area                  174\n",
       "Item Code             117\n",
       "Item                  115\n",
       "                     ... \n",
       "Y2009                2029\n",
       "Y2010                2046\n",
       "Y2011                2081\n",
       "Y2012                2084\n",
       "Y2013                2107\n",
       "Length: 63, dtype: int64"
      ]
     },
     "execution_count": 8,
     "metadata": {},
     "output_type": "execute_result"
    }
   ],
   "source": [
    "#checking uniqueness of data\n",
    "fao_df.nunique()"
   ]
  },
  {
   "cell_type": "code",
   "execution_count": 9,
   "metadata": {},
   "outputs": [],
   "source": [
    "#changing column names from multiple spaces to single word\n",
    "fao_df.columns=fao_df.columns.str.replace('\\s+', '_').str.lower().str.strip()"
   ]
  },
  {
   "cell_type": "code",
   "execution_count": 10,
   "metadata": {},
   "outputs": [
    {
     "data": {
      "text/plain": [
       "Index(['area_abbreviation', 'area_code', 'area', 'item_code', 'item',\n",
       "       'element_code', 'element', 'unit', 'latitude', 'longitude', 'y1961',\n",
       "       'y1962', 'y1963', 'y1964', 'y1965', 'y1966', 'y1967', 'y1968', 'y1969',\n",
       "       'y1970', 'y1971', 'y1972', 'y1973', 'y1974', 'y1975', 'y1976', 'y1977',\n",
       "       'y1978', 'y1979', 'y1980', 'y1981', 'y1982', 'y1983', 'y1984', 'y1985',\n",
       "       'y1986', 'y1987', 'y1988', 'y1989', 'y1990', 'y1991', 'y1992', 'y1993',\n",
       "       'y1994', 'y1995', 'y1996', 'y1997', 'y1998', 'y1999', 'y2000', 'y2001',\n",
       "       'y2002', 'y2003', 'y2004', 'y2005', 'y2006', 'y2007', 'y2008', 'y2009',\n",
       "       'y2010', 'y2011', 'y2012', 'y2013'],\n",
       "      dtype='object')"
      ]
     },
     "execution_count": 10,
     "metadata": {},
     "output_type": "execute_result"
    }
   ],
   "source": [
    "fao_df.columns"
   ]
  },
  {
   "cell_type": "code",
   "execution_count": 11,
   "metadata": {},
   "outputs": [
    {
     "data": {
      "text/html": [
       "<div>\n",
       "<style scoped>\n",
       "    .dataframe tbody tr th:only-of-type {\n",
       "        vertical-align: middle;\n",
       "    }\n",
       "\n",
       "    .dataframe tbody tr th {\n",
       "        vertical-align: top;\n",
       "    }\n",
       "\n",
       "    .dataframe thead th {\n",
       "        text-align: right;\n",
       "    }\n",
       "</style>\n",
       "<table border=\"1\" class=\"dataframe\">\n",
       "  <thead>\n",
       "    <tr style=\"text-align: right;\">\n",
       "      <th></th>\n",
       "      <th>area_abbreviation</th>\n",
       "      <th>area_code</th>\n",
       "      <th>area</th>\n",
       "      <th>item_code</th>\n",
       "      <th>item</th>\n",
       "      <th>element_code</th>\n",
       "      <th>element</th>\n",
       "      <th>unit</th>\n",
       "      <th>latitude</th>\n",
       "      <th>longitude</th>\n",
       "      <th>...</th>\n",
       "      <th>y2004</th>\n",
       "      <th>y2005</th>\n",
       "      <th>y2006</th>\n",
       "      <th>y2007</th>\n",
       "      <th>y2008</th>\n",
       "      <th>y2009</th>\n",
       "      <th>y2010</th>\n",
       "      <th>y2011</th>\n",
       "      <th>y2012</th>\n",
       "      <th>y2013</th>\n",
       "    </tr>\n",
       "  </thead>\n",
       "  <tbody>\n",
       "    <tr>\n",
       "      <th>7208</th>\n",
       "      <td>GAB</td>\n",
       "      <td>74</td>\n",
       "      <td>Gabon</td>\n",
       "      <td>2576</td>\n",
       "      <td>Palmkernel Oil</td>\n",
       "      <td>5142</td>\n",
       "      <td>Food</td>\n",
       "      <td>1000 tonnes</td>\n",
       "      <td>-0.8</td>\n",
       "      <td>11.61</td>\n",
       "      <td>...</td>\n",
       "      <td>0.0</td>\n",
       "      <td>0.0</td>\n",
       "      <td>0.0</td>\n",
       "      <td>0.0</td>\n",
       "      <td>0.0</td>\n",
       "      <td>0.0</td>\n",
       "      <td>0.0</td>\n",
       "      <td>0.0</td>\n",
       "      <td>0</td>\n",
       "      <td>0</td>\n",
       "    </tr>\n",
       "  </tbody>\n",
       "</table>\n",
       "<p>1 rows × 63 columns</p>\n",
       "</div>"
      ],
      "text/plain": [
       "     area_abbreviation  area_code   area  item_code            item  \\\n",
       "7208               GAB         74  Gabon       2576  Palmkernel Oil   \n",
       "\n",
       "      element_code element         unit  latitude  longitude  ...  y2004  \\\n",
       "7208          5142    Food  1000 tonnes      -0.8      11.61  ...    0.0   \n",
       "\n",
       "      y2005  y2006  y2007  y2008  y2009  y2010  y2011  y2012  y2013  \n",
       "7208    0.0    0.0    0.0    0.0    0.0    0.0    0.0      0      0  \n",
       "\n",
       "[1 rows x 63 columns]"
      ]
     },
     "execution_count": 11,
     "metadata": {},
     "output_type": "execute_result"
    }
   ],
   "source": [
    "#use the sample() function to get a sample of records.\n",
    "fao_df.sample()"
   ]
  },
  {
   "cell_type": "markdown",
   "metadata": {},
   "source": []
  },
  {
   "cell_type": "markdown",
   "metadata": {},
   "source": [
    "### DATA PREPARATION(Data munging,wrangling) And Statistics"
   ]
  },
  {
   "cell_type": "code",
   "execution_count": 12,
   "metadata": {},
   "outputs": [
    {
     "data": {
      "text/html": [
       "<div>\n",
       "<style scoped>\n",
       "    .dataframe tbody tr th:only-of-type {\n",
       "        vertical-align: middle;\n",
       "    }\n",
       "\n",
       "    .dataframe tbody tr th {\n",
       "        vertical-align: top;\n",
       "    }\n",
       "\n",
       "    .dataframe thead th {\n",
       "        text-align: right;\n",
       "    }\n",
       "</style>\n",
       "<table border=\"1\" class=\"dataframe\">\n",
       "  <thead>\n",
       "    <tr style=\"text-align: right;\">\n",
       "      <th></th>\n",
       "      <th>area_abbreviation</th>\n",
       "      <th>area_code</th>\n",
       "      <th>area</th>\n",
       "      <th>item_code</th>\n",
       "      <th>item</th>\n",
       "      <th>element_code</th>\n",
       "      <th>element</th>\n",
       "      <th>unit</th>\n",
       "      <th>latitude</th>\n",
       "      <th>longitude</th>\n",
       "      <th>...</th>\n",
       "      <th>y2004</th>\n",
       "      <th>y2005</th>\n",
       "      <th>y2006</th>\n",
       "      <th>y2007</th>\n",
       "      <th>y2008</th>\n",
       "      <th>y2009</th>\n",
       "      <th>y2010</th>\n",
       "      <th>y2011</th>\n",
       "      <th>y2012</th>\n",
       "      <th>y2013</th>\n",
       "    </tr>\n",
       "  </thead>\n",
       "  <tbody>\n",
       "    <tr>\n",
       "      <th>count</th>\n",
       "      <td>21477</td>\n",
       "      <td>21477.000000</td>\n",
       "      <td>21477</td>\n",
       "      <td>21477.000000</td>\n",
       "      <td>21477</td>\n",
       "      <td>21477.000000</td>\n",
       "      <td>21477</td>\n",
       "      <td>21477</td>\n",
       "      <td>21477.000000</td>\n",
       "      <td>21477.000000</td>\n",
       "      <td>...</td>\n",
       "      <td>21128.000000</td>\n",
       "      <td>21128.000000</td>\n",
       "      <td>21373.000000</td>\n",
       "      <td>21373.000000</td>\n",
       "      <td>21373.000000</td>\n",
       "      <td>21373.000000</td>\n",
       "      <td>21373.000000</td>\n",
       "      <td>21373.000000</td>\n",
       "      <td>21477.000000</td>\n",
       "      <td>21477.000000</td>\n",
       "    </tr>\n",
       "    <tr>\n",
       "      <th>unique</th>\n",
       "      <td>169</td>\n",
       "      <td>NaN</td>\n",
       "      <td>174</td>\n",
       "      <td>NaN</td>\n",
       "      <td>115</td>\n",
       "      <td>NaN</td>\n",
       "      <td>2</td>\n",
       "      <td>1</td>\n",
       "      <td>NaN</td>\n",
       "      <td>NaN</td>\n",
       "      <td>...</td>\n",
       "      <td>NaN</td>\n",
       "      <td>NaN</td>\n",
       "      <td>NaN</td>\n",
       "      <td>NaN</td>\n",
       "      <td>NaN</td>\n",
       "      <td>NaN</td>\n",
       "      <td>NaN</td>\n",
       "      <td>NaN</td>\n",
       "      <td>NaN</td>\n",
       "      <td>NaN</td>\n",
       "    </tr>\n",
       "    <tr>\n",
       "      <th>top</th>\n",
       "      <td>CHN</td>\n",
       "      <td>NaN</td>\n",
       "      <td>Spain</td>\n",
       "      <td>NaN</td>\n",
       "      <td>Milk - Excluding Butter</td>\n",
       "      <td>NaN</td>\n",
       "      <td>Food</td>\n",
       "      <td>1000 tonnes</td>\n",
       "      <td>NaN</td>\n",
       "      <td>NaN</td>\n",
       "      <td>...</td>\n",
       "      <td>NaN</td>\n",
       "      <td>NaN</td>\n",
       "      <td>NaN</td>\n",
       "      <td>NaN</td>\n",
       "      <td>NaN</td>\n",
       "      <td>NaN</td>\n",
       "      <td>NaN</td>\n",
       "      <td>NaN</td>\n",
       "      <td>NaN</td>\n",
       "      <td>NaN</td>\n",
       "    </tr>\n",
       "    <tr>\n",
       "      <th>freq</th>\n",
       "      <td>541</td>\n",
       "      <td>NaN</td>\n",
       "      <td>150</td>\n",
       "      <td>NaN</td>\n",
       "      <td>558</td>\n",
       "      <td>NaN</td>\n",
       "      <td>17528</td>\n",
       "      <td>21477</td>\n",
       "      <td>NaN</td>\n",
       "      <td>NaN</td>\n",
       "      <td>...</td>\n",
       "      <td>NaN</td>\n",
       "      <td>NaN</td>\n",
       "      <td>NaN</td>\n",
       "      <td>NaN</td>\n",
       "      <td>NaN</td>\n",
       "      <td>NaN</td>\n",
       "      <td>NaN</td>\n",
       "      <td>NaN</td>\n",
       "      <td>NaN</td>\n",
       "      <td>NaN</td>\n",
       "    </tr>\n",
       "    <tr>\n",
       "      <th>mean</th>\n",
       "      <td>NaN</td>\n",
       "      <td>125.449411</td>\n",
       "      <td>NaN</td>\n",
       "      <td>2694.211529</td>\n",
       "      <td>NaN</td>\n",
       "      <td>5211.687154</td>\n",
       "      <td>NaN</td>\n",
       "      <td>NaN</td>\n",
       "      <td>20.450613</td>\n",
       "      <td>15.794445</td>\n",
       "      <td>...</td>\n",
       "      <td>486.690742</td>\n",
       "      <td>493.153256</td>\n",
       "      <td>496.319328</td>\n",
       "      <td>508.482104</td>\n",
       "      <td>522.844898</td>\n",
       "      <td>524.581996</td>\n",
       "      <td>535.492069</td>\n",
       "      <td>553.399242</td>\n",
       "      <td>560.569214</td>\n",
       "      <td>575.557480</td>\n",
       "    </tr>\n",
       "    <tr>\n",
       "      <th>std</th>\n",
       "      <td>NaN</td>\n",
       "      <td>72.868149</td>\n",
       "      <td>NaN</td>\n",
       "      <td>148.973406</td>\n",
       "      <td>NaN</td>\n",
       "      <td>146.820079</td>\n",
       "      <td>NaN</td>\n",
       "      <td>NaN</td>\n",
       "      <td>24.628336</td>\n",
       "      <td>66.012104</td>\n",
       "      <td>...</td>\n",
       "      <td>5001.782008</td>\n",
       "      <td>5100.057036</td>\n",
       "      <td>5134.819373</td>\n",
       "      <td>5298.939807</td>\n",
       "      <td>5496.697513</td>\n",
       "      <td>5545.939303</td>\n",
       "      <td>5721.089425</td>\n",
       "      <td>5883.071604</td>\n",
       "      <td>6047.950804</td>\n",
       "      <td>6218.379479</td>\n",
       "    </tr>\n",
       "    <tr>\n",
       "      <th>min</th>\n",
       "      <td>NaN</td>\n",
       "      <td>1.000000</td>\n",
       "      <td>NaN</td>\n",
       "      <td>2511.000000</td>\n",
       "      <td>NaN</td>\n",
       "      <td>5142.000000</td>\n",
       "      <td>NaN</td>\n",
       "      <td>NaN</td>\n",
       "      <td>-40.900000</td>\n",
       "      <td>-172.100000</td>\n",
       "      <td>...</td>\n",
       "      <td>0.000000</td>\n",
       "      <td>0.000000</td>\n",
       "      <td>0.000000</td>\n",
       "      <td>0.000000</td>\n",
       "      <td>0.000000</td>\n",
       "      <td>0.000000</td>\n",
       "      <td>0.000000</td>\n",
       "      <td>0.000000</td>\n",
       "      <td>-169.000000</td>\n",
       "      <td>-246.000000</td>\n",
       "    </tr>\n",
       "    <tr>\n",
       "      <th>25%</th>\n",
       "      <td>NaN</td>\n",
       "      <td>63.000000</td>\n",
       "      <td>NaN</td>\n",
       "      <td>2561.000000</td>\n",
       "      <td>NaN</td>\n",
       "      <td>5142.000000</td>\n",
       "      <td>NaN</td>\n",
       "      <td>NaN</td>\n",
       "      <td>6.430000</td>\n",
       "      <td>-11.780000</td>\n",
       "      <td>...</td>\n",
       "      <td>0.000000</td>\n",
       "      <td>0.000000</td>\n",
       "      <td>0.000000</td>\n",
       "      <td>0.000000</td>\n",
       "      <td>0.000000</td>\n",
       "      <td>0.000000</td>\n",
       "      <td>0.000000</td>\n",
       "      <td>0.000000</td>\n",
       "      <td>0.000000</td>\n",
       "      <td>0.000000</td>\n",
       "    </tr>\n",
       "    <tr>\n",
       "      <th>50%</th>\n",
       "      <td>NaN</td>\n",
       "      <td>120.000000</td>\n",
       "      <td>NaN</td>\n",
       "      <td>2640.000000</td>\n",
       "      <td>NaN</td>\n",
       "      <td>5142.000000</td>\n",
       "      <td>NaN</td>\n",
       "      <td>NaN</td>\n",
       "      <td>20.590000</td>\n",
       "      <td>19.150000</td>\n",
       "      <td>...</td>\n",
       "      <td>6.000000</td>\n",
       "      <td>6.000000</td>\n",
       "      <td>7.000000</td>\n",
       "      <td>7.000000</td>\n",
       "      <td>7.000000</td>\n",
       "      <td>7.000000</td>\n",
       "      <td>7.000000</td>\n",
       "      <td>8.000000</td>\n",
       "      <td>8.000000</td>\n",
       "      <td>8.000000</td>\n",
       "    </tr>\n",
       "    <tr>\n",
       "      <th>75%</th>\n",
       "      <td>NaN</td>\n",
       "      <td>188.000000</td>\n",
       "      <td>NaN</td>\n",
       "      <td>2782.000000</td>\n",
       "      <td>NaN</td>\n",
       "      <td>5142.000000</td>\n",
       "      <td>NaN</td>\n",
       "      <td>NaN</td>\n",
       "      <td>41.150000</td>\n",
       "      <td>46.870000</td>\n",
       "      <td>...</td>\n",
       "      <td>75.000000</td>\n",
       "      <td>77.000000</td>\n",
       "      <td>78.000000</td>\n",
       "      <td>80.000000</td>\n",
       "      <td>82.000000</td>\n",
       "      <td>83.000000</td>\n",
       "      <td>83.000000</td>\n",
       "      <td>86.000000</td>\n",
       "      <td>88.000000</td>\n",
       "      <td>90.000000</td>\n",
       "    </tr>\n",
       "    <tr>\n",
       "      <th>max</th>\n",
       "      <td>NaN</td>\n",
       "      <td>276.000000</td>\n",
       "      <td>NaN</td>\n",
       "      <td>2961.000000</td>\n",
       "      <td>NaN</td>\n",
       "      <td>5521.000000</td>\n",
       "      <td>NaN</td>\n",
       "      <td>NaN</td>\n",
       "      <td>64.960000</td>\n",
       "      <td>179.410000</td>\n",
       "      <td>...</td>\n",
       "      <td>360767.000000</td>\n",
       "      <td>373694.000000</td>\n",
       "      <td>388100.000000</td>\n",
       "      <td>402975.000000</td>\n",
       "      <td>425537.000000</td>\n",
       "      <td>434724.000000</td>\n",
       "      <td>451838.000000</td>\n",
       "      <td>462696.000000</td>\n",
       "      <td>479028.000000</td>\n",
       "      <td>489299.000000</td>\n",
       "    </tr>\n",
       "  </tbody>\n",
       "</table>\n",
       "<p>11 rows × 63 columns</p>\n",
       "</div>"
      ],
      "text/plain": [
       "       area_abbreviation     area_code   area     item_code  \\\n",
       "count              21477  21477.000000  21477  21477.000000   \n",
       "unique               169           NaN    174           NaN   \n",
       "top                  CHN           NaN  Spain           NaN   \n",
       "freq                 541           NaN    150           NaN   \n",
       "mean                 NaN    125.449411    NaN   2694.211529   \n",
       "std                  NaN     72.868149    NaN    148.973406   \n",
       "min                  NaN      1.000000    NaN   2511.000000   \n",
       "25%                  NaN     63.000000    NaN   2561.000000   \n",
       "50%                  NaN    120.000000    NaN   2640.000000   \n",
       "75%                  NaN    188.000000    NaN   2782.000000   \n",
       "max                  NaN    276.000000    NaN   2961.000000   \n",
       "\n",
       "                           item  element_code element         unit  \\\n",
       "count                     21477  21477.000000   21477        21477   \n",
       "unique                      115           NaN       2            1   \n",
       "top     Milk - Excluding Butter           NaN    Food  1000 tonnes   \n",
       "freq                        558           NaN   17528        21477   \n",
       "mean                        NaN   5211.687154     NaN          NaN   \n",
       "std                         NaN    146.820079     NaN          NaN   \n",
       "min                         NaN   5142.000000     NaN          NaN   \n",
       "25%                         NaN   5142.000000     NaN          NaN   \n",
       "50%                         NaN   5142.000000     NaN          NaN   \n",
       "75%                         NaN   5142.000000     NaN          NaN   \n",
       "max                         NaN   5521.000000     NaN          NaN   \n",
       "\n",
       "            latitude     longitude  ...          y2004          y2005  \\\n",
       "count   21477.000000  21477.000000  ...   21128.000000   21128.000000   \n",
       "unique           NaN           NaN  ...            NaN            NaN   \n",
       "top              NaN           NaN  ...            NaN            NaN   \n",
       "freq             NaN           NaN  ...            NaN            NaN   \n",
       "mean       20.450613     15.794445  ...     486.690742     493.153256   \n",
       "std        24.628336     66.012104  ...    5001.782008    5100.057036   \n",
       "min       -40.900000   -172.100000  ...       0.000000       0.000000   \n",
       "25%         6.430000    -11.780000  ...       0.000000       0.000000   \n",
       "50%        20.590000     19.150000  ...       6.000000       6.000000   \n",
       "75%        41.150000     46.870000  ...      75.000000      77.000000   \n",
       "max        64.960000    179.410000  ...  360767.000000  373694.000000   \n",
       "\n",
       "                y2006          y2007          y2008          y2009  \\\n",
       "count    21373.000000   21373.000000   21373.000000   21373.000000   \n",
       "unique            NaN            NaN            NaN            NaN   \n",
       "top               NaN            NaN            NaN            NaN   \n",
       "freq              NaN            NaN            NaN            NaN   \n",
       "mean       496.319328     508.482104     522.844898     524.581996   \n",
       "std       5134.819373    5298.939807    5496.697513    5545.939303   \n",
       "min          0.000000       0.000000       0.000000       0.000000   \n",
       "25%          0.000000       0.000000       0.000000       0.000000   \n",
       "50%          7.000000       7.000000       7.000000       7.000000   \n",
       "75%         78.000000      80.000000      82.000000      83.000000   \n",
       "max     388100.000000  402975.000000  425537.000000  434724.000000   \n",
       "\n",
       "                y2010          y2011          y2012          y2013  \n",
       "count    21373.000000   21373.000000   21477.000000   21477.000000  \n",
       "unique            NaN            NaN            NaN            NaN  \n",
       "top               NaN            NaN            NaN            NaN  \n",
       "freq              NaN            NaN            NaN            NaN  \n",
       "mean       535.492069     553.399242     560.569214     575.557480  \n",
       "std       5721.089425    5883.071604    6047.950804    6218.379479  \n",
       "min          0.000000       0.000000    -169.000000    -246.000000  \n",
       "25%          0.000000       0.000000       0.000000       0.000000  \n",
       "50%          7.000000       8.000000       8.000000       8.000000  \n",
       "75%         83.000000      86.000000      88.000000      90.000000  \n",
       "max     451838.000000  462696.000000  479028.000000  489299.000000  \n",
       "\n",
       "[11 rows x 63 columns]"
      ]
     },
     "execution_count": 12,
     "metadata": {},
     "output_type": "execute_result"
    }
   ],
   "source": [
    "# USE .describe(include='all') to get statistics for all columns including non-numeric values\n",
    "fao_df.describe(include='all')"
   ]
  },
  {
   "cell_type": "code",
   "execution_count": null,
   "metadata": {},
   "outputs": [],
   "source": []
  },
  {
   "cell_type": "code",
   "execution_count": 13,
   "metadata": {},
   "outputs": [
    {
     "data": {
      "text/html": [
       "<div>\n",
       "<style scoped>\n",
       "    .dataframe tbody tr th:only-of-type {\n",
       "        vertical-align: middle;\n",
       "    }\n",
       "\n",
       "    .dataframe tbody tr th {\n",
       "        vertical-align: top;\n",
       "    }\n",
       "\n",
       "    .dataframe thead th {\n",
       "        text-align: right;\n",
       "    }\n",
       "</style>\n",
       "<table border=\"1\" class=\"dataframe\">\n",
       "  <thead>\n",
       "    <tr style=\"text-align: right;\">\n",
       "      <th></th>\n",
       "      <th>area_code</th>\n",
       "      <th>item_code</th>\n",
       "      <th>element_code</th>\n",
       "      <th>latitude</th>\n",
       "      <th>longitude</th>\n",
       "      <th>y1961</th>\n",
       "      <th>y1962</th>\n",
       "      <th>y1963</th>\n",
       "      <th>y1964</th>\n",
       "      <th>y1965</th>\n",
       "      <th>...</th>\n",
       "      <th>y2004</th>\n",
       "      <th>y2005</th>\n",
       "      <th>y2006</th>\n",
       "      <th>y2007</th>\n",
       "      <th>y2008</th>\n",
       "      <th>y2009</th>\n",
       "      <th>y2010</th>\n",
       "      <th>y2011</th>\n",
       "      <th>y2012</th>\n",
       "      <th>y2013</th>\n",
       "    </tr>\n",
       "  </thead>\n",
       "  <tbody>\n",
       "    <tr>\n",
       "      <th>count</th>\n",
       "      <td>21477.000000</td>\n",
       "      <td>21477.000000</td>\n",
       "      <td>21477.000000</td>\n",
       "      <td>21477.000000</td>\n",
       "      <td>21477.000000</td>\n",
       "      <td>17938.000000</td>\n",
       "      <td>17938.000000</td>\n",
       "      <td>17938.000000</td>\n",
       "      <td>17938.000000</td>\n",
       "      <td>17938.000000</td>\n",
       "      <td>...</td>\n",
       "      <td>21128.000000</td>\n",
       "      <td>21128.000000</td>\n",
       "      <td>21373.000000</td>\n",
       "      <td>21373.000000</td>\n",
       "      <td>21373.000000</td>\n",
       "      <td>21373.000000</td>\n",
       "      <td>21373.000000</td>\n",
       "      <td>21373.000000</td>\n",
       "      <td>21477.000000</td>\n",
       "      <td>21477.000000</td>\n",
       "    </tr>\n",
       "    <tr>\n",
       "      <th>mean</th>\n",
       "      <td>125.449411</td>\n",
       "      <td>2694.211529</td>\n",
       "      <td>5211.687154</td>\n",
       "      <td>20.450613</td>\n",
       "      <td>15.794445</td>\n",
       "      <td>195.262069</td>\n",
       "      <td>200.782250</td>\n",
       "      <td>205.464600</td>\n",
       "      <td>209.925577</td>\n",
       "      <td>217.556751</td>\n",
       "      <td>...</td>\n",
       "      <td>486.690742</td>\n",
       "      <td>493.153256</td>\n",
       "      <td>496.319328</td>\n",
       "      <td>508.482104</td>\n",
       "      <td>522.844898</td>\n",
       "      <td>524.581996</td>\n",
       "      <td>535.492069</td>\n",
       "      <td>553.399242</td>\n",
       "      <td>560.569214</td>\n",
       "      <td>575.557480</td>\n",
       "    </tr>\n",
       "    <tr>\n",
       "      <th>std</th>\n",
       "      <td>72.868149</td>\n",
       "      <td>148.973406</td>\n",
       "      <td>146.820079</td>\n",
       "      <td>24.628336</td>\n",
       "      <td>66.012104</td>\n",
       "      <td>1864.124336</td>\n",
       "      <td>1884.265591</td>\n",
       "      <td>1861.174739</td>\n",
       "      <td>1862.000116</td>\n",
       "      <td>2014.934333</td>\n",
       "      <td>...</td>\n",
       "      <td>5001.782008</td>\n",
       "      <td>5100.057036</td>\n",
       "      <td>5134.819373</td>\n",
       "      <td>5298.939807</td>\n",
       "      <td>5496.697513</td>\n",
       "      <td>5545.939303</td>\n",
       "      <td>5721.089425</td>\n",
       "      <td>5883.071604</td>\n",
       "      <td>6047.950804</td>\n",
       "      <td>6218.379479</td>\n",
       "    </tr>\n",
       "    <tr>\n",
       "      <th>min</th>\n",
       "      <td>1.000000</td>\n",
       "      <td>2511.000000</td>\n",
       "      <td>5142.000000</td>\n",
       "      <td>-40.900000</td>\n",
       "      <td>-172.100000</td>\n",
       "      <td>0.000000</td>\n",
       "      <td>0.000000</td>\n",
       "      <td>0.000000</td>\n",
       "      <td>0.000000</td>\n",
       "      <td>0.000000</td>\n",
       "      <td>...</td>\n",
       "      <td>0.000000</td>\n",
       "      <td>0.000000</td>\n",
       "      <td>0.000000</td>\n",
       "      <td>0.000000</td>\n",
       "      <td>0.000000</td>\n",
       "      <td>0.000000</td>\n",
       "      <td>0.000000</td>\n",
       "      <td>0.000000</td>\n",
       "      <td>-169.000000</td>\n",
       "      <td>-246.000000</td>\n",
       "    </tr>\n",
       "    <tr>\n",
       "      <th>25%</th>\n",
       "      <td>63.000000</td>\n",
       "      <td>2561.000000</td>\n",
       "      <td>5142.000000</td>\n",
       "      <td>6.430000</td>\n",
       "      <td>-11.780000</td>\n",
       "      <td>0.000000</td>\n",
       "      <td>0.000000</td>\n",
       "      <td>0.000000</td>\n",
       "      <td>0.000000</td>\n",
       "      <td>0.000000</td>\n",
       "      <td>...</td>\n",
       "      <td>0.000000</td>\n",
       "      <td>0.000000</td>\n",
       "      <td>0.000000</td>\n",
       "      <td>0.000000</td>\n",
       "      <td>0.000000</td>\n",
       "      <td>0.000000</td>\n",
       "      <td>0.000000</td>\n",
       "      <td>0.000000</td>\n",
       "      <td>0.000000</td>\n",
       "      <td>0.000000</td>\n",
       "    </tr>\n",
       "    <tr>\n",
       "      <th>50%</th>\n",
       "      <td>120.000000</td>\n",
       "      <td>2640.000000</td>\n",
       "      <td>5142.000000</td>\n",
       "      <td>20.590000</td>\n",
       "      <td>19.150000</td>\n",
       "      <td>1.000000</td>\n",
       "      <td>1.000000</td>\n",
       "      <td>1.000000</td>\n",
       "      <td>1.000000</td>\n",
       "      <td>1.000000</td>\n",
       "      <td>...</td>\n",
       "      <td>6.000000</td>\n",
       "      <td>6.000000</td>\n",
       "      <td>7.000000</td>\n",
       "      <td>7.000000</td>\n",
       "      <td>7.000000</td>\n",
       "      <td>7.000000</td>\n",
       "      <td>7.000000</td>\n",
       "      <td>8.000000</td>\n",
       "      <td>8.000000</td>\n",
       "      <td>8.000000</td>\n",
       "    </tr>\n",
       "    <tr>\n",
       "      <th>75%</th>\n",
       "      <td>188.000000</td>\n",
       "      <td>2782.000000</td>\n",
       "      <td>5142.000000</td>\n",
       "      <td>41.150000</td>\n",
       "      <td>46.870000</td>\n",
       "      <td>21.000000</td>\n",
       "      <td>22.000000</td>\n",
       "      <td>23.000000</td>\n",
       "      <td>24.000000</td>\n",
       "      <td>25.000000</td>\n",
       "      <td>...</td>\n",
       "      <td>75.000000</td>\n",
       "      <td>77.000000</td>\n",
       "      <td>78.000000</td>\n",
       "      <td>80.000000</td>\n",
       "      <td>82.000000</td>\n",
       "      <td>83.000000</td>\n",
       "      <td>83.000000</td>\n",
       "      <td>86.000000</td>\n",
       "      <td>88.000000</td>\n",
       "      <td>90.000000</td>\n",
       "    </tr>\n",
       "    <tr>\n",
       "      <th>max</th>\n",
       "      <td>276.000000</td>\n",
       "      <td>2961.000000</td>\n",
       "      <td>5521.000000</td>\n",
       "      <td>64.960000</td>\n",
       "      <td>179.410000</td>\n",
       "      <td>112227.000000</td>\n",
       "      <td>109130.000000</td>\n",
       "      <td>106356.000000</td>\n",
       "      <td>104234.000000</td>\n",
       "      <td>119378.000000</td>\n",
       "      <td>...</td>\n",
       "      <td>360767.000000</td>\n",
       "      <td>373694.000000</td>\n",
       "      <td>388100.000000</td>\n",
       "      <td>402975.000000</td>\n",
       "      <td>425537.000000</td>\n",
       "      <td>434724.000000</td>\n",
       "      <td>451838.000000</td>\n",
       "      <td>462696.000000</td>\n",
       "      <td>479028.000000</td>\n",
       "      <td>489299.000000</td>\n",
       "    </tr>\n",
       "  </tbody>\n",
       "</table>\n",
       "<p>8 rows × 58 columns</p>\n",
       "</div>"
      ],
      "text/plain": [
       "          area_code     item_code  element_code      latitude     longitude  \\\n",
       "count  21477.000000  21477.000000  21477.000000  21477.000000  21477.000000   \n",
       "mean     125.449411   2694.211529   5211.687154     20.450613     15.794445   \n",
       "std       72.868149    148.973406    146.820079     24.628336     66.012104   \n",
       "min        1.000000   2511.000000   5142.000000    -40.900000   -172.100000   \n",
       "25%       63.000000   2561.000000   5142.000000      6.430000    -11.780000   \n",
       "50%      120.000000   2640.000000   5142.000000     20.590000     19.150000   \n",
       "75%      188.000000   2782.000000   5142.000000     41.150000     46.870000   \n",
       "max      276.000000   2961.000000   5521.000000     64.960000    179.410000   \n",
       "\n",
       "               y1961          y1962          y1963          y1964  \\\n",
       "count   17938.000000   17938.000000   17938.000000   17938.000000   \n",
       "mean      195.262069     200.782250     205.464600     209.925577   \n",
       "std      1864.124336    1884.265591    1861.174739    1862.000116   \n",
       "min         0.000000       0.000000       0.000000       0.000000   \n",
       "25%         0.000000       0.000000       0.000000       0.000000   \n",
       "50%         1.000000       1.000000       1.000000       1.000000   \n",
       "75%        21.000000      22.000000      23.000000      24.000000   \n",
       "max    112227.000000  109130.000000  106356.000000  104234.000000   \n",
       "\n",
       "               y1965  ...          y2004          y2005          y2006  \\\n",
       "count   17938.000000  ...   21128.000000   21128.000000   21373.000000   \n",
       "mean      217.556751  ...     486.690742     493.153256     496.319328   \n",
       "std      2014.934333  ...    5001.782008    5100.057036    5134.819373   \n",
       "min         0.000000  ...       0.000000       0.000000       0.000000   \n",
       "25%         0.000000  ...       0.000000       0.000000       0.000000   \n",
       "50%         1.000000  ...       6.000000       6.000000       7.000000   \n",
       "75%        25.000000  ...      75.000000      77.000000      78.000000   \n",
       "max    119378.000000  ...  360767.000000  373694.000000  388100.000000   \n",
       "\n",
       "               y2007          y2008          y2009          y2010  \\\n",
       "count   21373.000000   21373.000000   21373.000000   21373.000000   \n",
       "mean      508.482104     522.844898     524.581996     535.492069   \n",
       "std      5298.939807    5496.697513    5545.939303    5721.089425   \n",
       "min         0.000000       0.000000       0.000000       0.000000   \n",
       "25%         0.000000       0.000000       0.000000       0.000000   \n",
       "50%         7.000000       7.000000       7.000000       7.000000   \n",
       "75%        80.000000      82.000000      83.000000      83.000000   \n",
       "max    402975.000000  425537.000000  434724.000000  451838.000000   \n",
       "\n",
       "               y2011          y2012          y2013  \n",
       "count   21373.000000   21477.000000   21477.000000  \n",
       "mean      553.399242     560.569214     575.557480  \n",
       "std      5883.071604    6047.950804    6218.379479  \n",
       "min         0.000000    -169.000000    -246.000000  \n",
       "25%         0.000000       0.000000       0.000000  \n",
       "50%         8.000000       8.000000       8.000000  \n",
       "75%        86.000000      88.000000      90.000000  \n",
       "max    462696.000000  479028.000000  489299.000000  \n",
       "\n",
       "[8 rows x 58 columns]"
      ]
     },
     "execution_count": 13,
     "metadata": {},
     "output_type": "execute_result"
    }
   ],
   "source": [
    "#getting summary statistics for numeric values\n",
    "fao_df.describe()"
   ]
  },
  {
   "cell_type": "code",
   "execution_count": 14,
   "metadata": {},
   "outputs": [
    {
     "data": {
      "text/plain": [
       "area_abbreviation       0\n",
       "area_code               0\n",
       "area                    0\n",
       "item_code               0\n",
       "item                    0\n",
       "element_code            0\n",
       "element                 0\n",
       "unit                    0\n",
       "latitude                0\n",
       "longitude               0\n",
       "y1961                3539\n",
       "y1962                3539\n",
       "y1963                3539\n",
       "y1964                3539\n",
       "y1965                3539\n",
       "y1966                3539\n",
       "y1967                3539\n",
       "y1968                3539\n",
       "y1969                3539\n",
       "y1970                3539\n",
       "y1971                3539\n",
       "y1972                3539\n",
       "y1973                3539\n",
       "y1974                3539\n",
       "y1975                3539\n",
       "y1976                3539\n",
       "y1977                3539\n",
       "y1978                3539\n",
       "y1979                3539\n",
       "y1980                3539\n",
       "y1981                3539\n",
       "y1982                3539\n",
       "y1983                3539\n",
       "y1984                3539\n",
       "y1985                3539\n",
       "y1986                3539\n",
       "y1987                3539\n",
       "y1988                3539\n",
       "y1989                3539\n",
       "y1990                3415\n",
       "y1991                3415\n",
       "y1992                 987\n",
       "y1993                 612\n",
       "y1994                 612\n",
       "y1995                 612\n",
       "y1996                 612\n",
       "y1997                 612\n",
       "y1998                 612\n",
       "y1999                 612\n",
       "y2000                 349\n",
       "dtype: int64"
      ]
     },
     "execution_count": 14,
     "metadata": {},
     "output_type": "execute_result"
    }
   ],
   "source": [
    "#checking missing values in the dataset\n",
    "fao_df.isna().sum().head(50)"
   ]
  },
  {
   "cell_type": "code",
   "execution_count": null,
   "metadata": {},
   "outputs": [],
   "source": []
  },
  {
   "cell_type": "code",
   "execution_count": 15,
   "metadata": {},
   "outputs": [],
   "source": [
    "#drropping columns with higher missing values(year 1961-1999)\n",
    "fao_df.drop(columns=['y1961',\n",
    "       'y1962', 'y1963', 'y1964', 'y1965', 'y1966', 'y1967', 'y1968', 'y1969',\n",
    "       'y1970', 'y1971', 'y1972', 'y1973', 'y1974', 'y1975', 'y1976', 'y1977',\n",
    "       'y1978', 'y1979', 'y1980', 'y1981', 'y1982', 'y1983', 'y1984', 'y1985',\n",
    "       'y1986', 'y1987', 'y1988', 'y1989', 'y1990', 'y1991', 'y1992', 'y1993',\n",
    "       'y1994', 'y1995', 'y1996', 'y1997', 'y1998', 'y1999'],axis=1,inplace=True)"
   ]
  },
  {
   "cell_type": "code",
   "execution_count": 16,
   "metadata": {},
   "outputs": [
    {
     "data": {
      "text/plain": [
       "area_abbreviation      0\n",
       "area_code              0\n",
       "area                   0\n",
       "item_code              0\n",
       "item                   0\n",
       "element_code           0\n",
       "element                0\n",
       "unit                   0\n",
       "latitude               0\n",
       "longitude              0\n",
       "y2000                349\n",
       "y2001                349\n",
       "y2002                349\n",
       "y2003                349\n",
       "y2004                349\n",
       "y2005                349\n",
       "y2006                104\n",
       "y2007                104\n",
       "y2008                104\n",
       "y2009                104\n",
       "y2010                104\n",
       "y2011                104\n",
       "y2012                  0\n",
       "y2013                  0\n",
       "dtype: int64"
      ]
     },
     "execution_count": 16,
     "metadata": {},
     "output_type": "execute_result"
    }
   ],
   "source": [
    "#checing missing valuess of remaining  columns\n",
    "fao_df.isna().sum()"
   ]
  },
  {
   "cell_type": "code",
   "execution_count": null,
   "metadata": {},
   "outputs": [],
   "source": []
  },
  {
   "cell_type": "code",
   "execution_count": 17,
   "metadata": {},
   "outputs": [],
   "source": [
    "#filling values missing with median()\n",
    "\n",
    " \n",
    "fao_df['y2000'].fillna(fao_df['y2000'].median(),inplace=True)\n",
    "fao_df['y2001'].fillna(fao_df['y2001'].median(),inplace=True)\n",
    "fao_df['y2002'].fillna(fao_df['y2002'].median(),inplace=True)\n",
    "fao_df['y2003'].fillna(fao_df['y2003'].median(),inplace=True)\n",
    "fao_df['y2004'].fillna(fao_df['y2004'].median(),inplace=True)\n",
    "fao_df['y2005'].fillna(fao_df['y2005'].median(),inplace=True)\n",
    "fao_df['y2006'].fillna(fao_df['y2006'].median(),inplace=True)\n",
    "fao_df['y2007'].fillna(fao_df['y2007'].median(),inplace=True)\n",
    "fao_df['y2008'].fillna(fao_df['y2008'].median(),inplace=True)\n",
    "fao_df['y2009'].fillna(fao_df['y2009'].median(),inplace=True)\n",
    "fao_df['y2010'].fillna(fao_df['y2010'].median(),inplace=True)\n",
    "fao_df['y2011'].fillna(fao_df['y2011'].median(),inplace=True)\n",
    "fao_df['y2012'].fillna(fao_df['y2012'].median(),inplace=True)\n",
    "fao_df['y2013'].fillna(fao_df['y2013'].median(),inplace=True)"
   ]
  },
  {
   "cell_type": "code",
   "execution_count": null,
   "metadata": {},
   "outputs": [],
   "source": []
  },
  {
   "cell_type": "code",
   "execution_count": null,
   "metadata": {},
   "outputs": [],
   "source": []
  },
  {
   "cell_type": "code",
   "execution_count": 18,
   "metadata": {},
   "outputs": [
    {
     "data": {
      "text/plain": [
       "area_abbreviation    0\n",
       "area_code            0\n",
       "area                 0\n",
       "item_code            0\n",
       "item                 0\n",
       "element_code         0\n",
       "element              0\n",
       "unit                 0\n",
       "latitude             0\n",
       "longitude            0\n",
       "y2000                0\n",
       "y2001                0\n",
       "y2002                0\n",
       "y2003                0\n",
       "y2004                0\n",
       "y2005                0\n",
       "y2006                0\n",
       "y2007                0\n",
       "y2008                0\n",
       "y2009                0\n",
       "y2010                0\n",
       "y2011                0\n",
       "y2012                0\n",
       "y2013                0\n",
       "dtype: int64"
      ]
     },
     "execution_count": 18,
     "metadata": {},
     "output_type": "execute_result"
    }
   ],
   "source": [
    "fao_df.isna().sum()"
   ]
  },
  {
   "cell_type": "code",
   "execution_count": null,
   "metadata": {},
   "outputs": [],
   "source": []
  },
  {
   "cell_type": "code",
   "execution_count": 19,
   "metadata": {},
   "outputs": [
    {
     "data": {
      "text/plain": [
       "False"
      ]
     },
     "execution_count": 19,
     "metadata": {},
     "output_type": "execute_result"
    }
   ],
   "source": [
    "#checking duplicated values\n",
    "fao_df.duplicated().any()"
   ]
  },
  {
   "cell_type": "markdown",
   "metadata": {},
   "source": [
    "###### no duplicates! in food agriculture organisation(fao)"
   ]
  },
  {
   "cell_type": "code",
   "execution_count": null,
   "metadata": {},
   "outputs": [],
   "source": []
  },
  {
   "cell_type": "code",
   "execution_count": 20,
   "metadata": {},
   "outputs": [
    {
     "data": {
      "text/plain": [
       "CHN    541\n",
       "THA    261\n",
       "AZE    240\n",
       "ESP    150\n",
       "ITA    148\n",
       "      ... \n",
       "STP     91\n",
       "TKM     90\n",
       "TLS     86\n",
       "AFG     83\n",
       "LSO     75\n",
       "Name: area_abbreviation, Length: 169, dtype: int64"
      ]
     },
     "execution_count": 20,
     "metadata": {},
     "output_type": "execute_result"
    }
   ],
   "source": [
    "#checking number of countries abbreviations in fao\n",
    "fao_df['area_abbreviation'].value_counts()"
   ]
  },
  {
   "cell_type": "markdown",
   "metadata": {},
   "source": [
    "###### !!!! There are 169 countries abbreviations growing food as indicated by dataset above"
   ]
  },
  {
   "cell_type": "code",
   "execution_count": null,
   "metadata": {},
   "outputs": [],
   "source": []
  },
  {
   "cell_type": "code",
   "execution_count": null,
   "metadata": {},
   "outputs": [],
   "source": []
  },
  {
   "cell_type": "code",
   "execution_count": 21,
   "metadata": {},
   "outputs": [
    {
     "data": {
      "text/plain": [
       "Spain              150\n",
       "Italy              148\n",
       "Germany            147\n",
       "China, mainland    146\n",
       "Greece             143\n",
       "                  ... \n",
       "Guinea-Bissau       91\n",
       "Turkmenistan        90\n",
       "Timor-Leste         86\n",
       "Afghanistan         83\n",
       "Lesotho             75\n",
       "Name: area, Length: 174, dtype: int64"
      ]
     },
     "execution_count": 21,
     "metadata": {},
     "output_type": "execute_result"
    }
   ],
   "source": [
    "#checking number of countries in fao\n",
    "fao_df['area'].value_counts()"
   ]
  },
  {
   "cell_type": "markdown",
   "metadata": {},
   "source": [
    "###### !!!! There are 174 countries  growing food as indicated by dataset above"
   ]
  },
  {
   "cell_type": "code",
   "execution_count": null,
   "metadata": {},
   "outputs": [],
   "source": []
  },
  {
   "cell_type": "code",
   "execution_count": 22,
   "metadata": {},
   "outputs": [
    {
     "data": {
      "text/plain": [
       "Milk - Excluding Butter     558\n",
       "Eggs                        360\n",
       "Cereals - Excluding Beer    347\n",
       "Fish, Seafood               337\n",
       "Maize and products          333\n",
       "                           ... \n",
       "Sugar non-centrifugal        32\n",
       "Palm kernels                 24\n",
       "Cottonseed                   21\n",
       "Ricebran Oil                 18\n",
       "Meat, Aquatic Mammals         3\n",
       "Name: item, Length: 115, dtype: int64"
      ]
     },
     "execution_count": 22,
     "metadata": {},
     "output_type": "execute_result"
    }
   ],
   "source": [
    "#checking number of items grown and produced in the countries representing world\n",
    "fao_df['item'].value_counts()"
   ]
  },
  {
   "cell_type": "markdown",
   "metadata": {},
   "source": [
    "##### !!!!According to observation it appears that there are 115 items grown and produced in the countries representing.Both feed and food!"
   ]
  },
  {
   "cell_type": "code",
   "execution_count": null,
   "metadata": {},
   "outputs": [],
   "source": []
  },
  {
   "cell_type": "code",
   "execution_count": 23,
   "metadata": {},
   "outputs": [
    {
     "data": {
      "text/plain": [
       "Food    17528\n",
       "Feed     3949\n",
       "Name: element, dtype: int64"
      ]
     },
     "execution_count": 23,
     "metadata": {},
     "output_type": "execute_result"
    }
   ],
   "source": [
    "#checking elements(food/feed)count popularity\n",
    "fao_df['element'].value_counts()"
   ]
  },
  {
   "cell_type": "markdown",
   "metadata": {},
   "source": [
    "##### FIRST OBJECTIVE:\n",
    "\n",
    " "
   ]
  },
  {
   "cell_type": "markdown",
   "metadata": {},
   "source": [
    "##### ********Food is mostly grown(17,528) compared to animal feeds(3,949) which shows population has higher demand for food forlife.********"
   ]
  },
  {
   "cell_type": "code",
   "execution_count": null,
   "metadata": {},
   "outputs": [],
   "source": []
  },
  {
   "cell_type": "code",
   "execution_count": 24,
   "metadata": {},
   "outputs": [],
   "source": [
    "#pd.pivot_table(fao_df,index='area',aggfunc={'Rating':'mean'})"
   ]
  },
  {
   "cell_type": "code",
   "execution_count": 25,
   "metadata": {},
   "outputs": [
    {
     "data": {
      "text/plain": [
       "0        61353.0\n",
       "1         7342.0\n",
       "2         2924.0\n",
       "3         1421.0\n",
       "4         2361.0\n",
       "          ...   \n",
       "21472     6628.0\n",
       "21473      132.0\n",
       "21474      397.0\n",
       "21475        0.0\n",
       "21476        0.0\n",
       "Name: total_supply, Length: 21477, dtype: float64"
      ]
     },
     "execution_count": 25,
     "metadata": {},
     "output_type": "execute_result"
    }
   ],
   "source": [
    "fao_df['total_supply']=fao_df['y2000']+fao_df['y2000']+fao_df['y2000']+fao_df['y2000']+fao_df['y2001']+fao_df['y2002']+fao_df['y2003']+fao_df['y2004']+fao_df['y2005']+fao_df['y2006']+fao_df['y2007']+fao_df['y2008']+fao_df['y2009']+fao_df['y2010']+fao_df['y2011']+fao_df['y2012']+fao_df['y2013']\n",
    "fao_df['total_supply']"
   ]
  },
  {
   "cell_type": "code",
   "execution_count": 26,
   "metadata": {},
   "outputs": [
    {
     "data": {
      "text/plain": [
       "Index(['area_abbreviation', 'area_code', 'area', 'item_code', 'item',\n",
       "       'element_code', 'element', 'unit', 'latitude', 'longitude', 'y2000',\n",
       "       'y2001', 'y2002', 'y2003', 'y2004', 'y2005', 'y2006', 'y2007', 'y2008',\n",
       "       'y2009', 'y2010', 'y2011', 'y2012', 'y2013', 'total_supply'],\n",
       "      dtype='object')"
      ]
     },
     "execution_count": 26,
     "metadata": {},
     "output_type": "execute_result"
    }
   ],
   "source": [
    "fao_df.columns"
   ]
  },
  {
   "cell_type": "code",
   "execution_count": null,
   "metadata": {},
   "outputs": [],
   "source": []
  },
  {
   "cell_type": "code",
   "execution_count": 27,
   "metadata": {},
   "outputs": [],
   "source": [
    "#checking area with highest production supply of food\n",
    "#arranging based on descending order of supply\n",
    "supply=pd.pivot_table(fao_df,index='area',aggfunc={'total_supply':'mean'}).sort_values(by='total_supply',ascending=False)"
   ]
  },
  {
   "cell_type": "code",
   "execution_count": null,
   "metadata": {},
   "outputs": [],
   "source": []
  },
  {
   "cell_type": "code",
   "execution_count": 28,
   "metadata": {},
   "outputs": [
    {
     "data": {
      "text/html": [
       "<div>\n",
       "<style scoped>\n",
       "    .dataframe tbody tr th:only-of-type {\n",
       "        vertical-align: middle;\n",
       "    }\n",
       "\n",
       "    .dataframe tbody tr th {\n",
       "        vertical-align: top;\n",
       "    }\n",
       "\n",
       "    .dataframe thead th {\n",
       "        text-align: right;\n",
       "    }\n",
       "</style>\n",
       "<table border=\"1\" class=\"dataframe\">\n",
       "  <thead>\n",
       "    <tr style=\"text-align: right;\">\n",
       "      <th></th>\n",
       "      <th>total_supply</th>\n",
       "    </tr>\n",
       "    <tr>\n",
       "      <th>area</th>\n",
       "      <th></th>\n",
       "    </tr>\n",
       "  </thead>\n",
       "  <tbody>\n",
       "    <tr>\n",
       "      <th>China, mainland</th>\n",
       "      <td>293311.630137</td>\n",
       "    </tr>\n",
       "    <tr>\n",
       "      <th>India</th>\n",
       "      <td>135584.485075</td>\n",
       "    </tr>\n",
       "    <tr>\n",
       "      <th>United States of America</th>\n",
       "      <td>114343.971631</td>\n",
       "    </tr>\n",
       "    <tr>\n",
       "      <th>Brazil</th>\n",
       "      <td>46586.036496</td>\n",
       "    </tr>\n",
       "    <tr>\n",
       "      <th>Russian Federation</th>\n",
       "      <td>42752.715328</td>\n",
       "    </tr>\n",
       "    <tr>\n",
       "      <th>Nigeria</th>\n",
       "      <td>31656.068702</td>\n",
       "    </tr>\n",
       "    <tr>\n",
       "      <th>Indonesia</th>\n",
       "      <td>28240.563492</td>\n",
       "    </tr>\n",
       "    <tr>\n",
       "      <th>Germany</th>\n",
       "      <td>25040.782313</td>\n",
       "    </tr>\n",
       "    <tr>\n",
       "      <th>Mexico</th>\n",
       "      <td>24661.187970</td>\n",
       "    </tr>\n",
       "    <tr>\n",
       "      <th>Japan</th>\n",
       "      <td>23414.293706</td>\n",
       "    </tr>\n",
       "    <tr>\n",
       "      <th>France</th>\n",
       "      <td>21221.021429</td>\n",
       "    </tr>\n",
       "    <tr>\n",
       "      <th>Pakistan</th>\n",
       "      <td>21097.375940</td>\n",
       "    </tr>\n",
       "    <tr>\n",
       "      <th>Turkey</th>\n",
       "      <td>20840.031250</td>\n",
       "    </tr>\n",
       "    <tr>\n",
       "      <th>Italy</th>\n",
       "      <td>18347.689189</td>\n",
       "    </tr>\n",
       "    <tr>\n",
       "      <th>Iran (Islamic Republic of)</th>\n",
       "      <td>18223.450000</td>\n",
       "    </tr>\n",
       "  </tbody>\n",
       "</table>\n",
       "</div>"
      ],
      "text/plain": [
       "                             total_supply\n",
       "area                                     \n",
       "China, mainland             293311.630137\n",
       "India                       135584.485075\n",
       "United States of America    114343.971631\n",
       "Brazil                       46586.036496\n",
       "Russian Federation           42752.715328\n",
       "Nigeria                      31656.068702\n",
       "Indonesia                    28240.563492\n",
       "Germany                      25040.782313\n",
       "Mexico                       24661.187970\n",
       "Japan                        23414.293706\n",
       "France                       21221.021429\n",
       "Pakistan                     21097.375940\n",
       "Turkey                       20840.031250\n",
       "Italy                        18347.689189\n",
       "Iran (Islamic Republic of)   18223.450000"
      ]
     },
     "execution_count": 28,
     "metadata": {},
     "output_type": "execute_result"
    }
   ],
   "source": [
    "#arranging based on descending order of supply\n",
    "supply.sort_values(by='total_supply',ascending=False).head(15)"
   ]
  },
  {
   "cell_type": "code",
   "execution_count": 29,
   "metadata": {},
   "outputs": [
    {
     "data": {
      "text/html": [
       "<div>\n",
       "<style scoped>\n",
       "    .dataframe tbody tr th:only-of-type {\n",
       "        vertical-align: middle;\n",
       "    }\n",
       "\n",
       "    .dataframe tbody tr th {\n",
       "        vertical-align: top;\n",
       "    }\n",
       "\n",
       "    .dataframe thead th {\n",
       "        text-align: right;\n",
       "    }\n",
       "</style>\n",
       "<table border=\"1\" class=\"dataframe\">\n",
       "  <thead>\n",
       "    <tr style=\"text-align: right;\">\n",
       "      <th></th>\n",
       "      <th>total_supply</th>\n",
       "    </tr>\n",
       "    <tr>\n",
       "      <th>area</th>\n",
       "      <th></th>\n",
       "    </tr>\n",
       "  </thead>\n",
       "  <tbody>\n",
       "    <tr>\n",
       "      <th>China, mainland</th>\n",
       "      <td>293311.630137</td>\n",
       "    </tr>\n",
       "    <tr>\n",
       "      <th>India</th>\n",
       "      <td>135584.485075</td>\n",
       "    </tr>\n",
       "    <tr>\n",
       "      <th>United States of America</th>\n",
       "      <td>114343.971631</td>\n",
       "    </tr>\n",
       "    <tr>\n",
       "      <th>Brazil</th>\n",
       "      <td>46586.036496</td>\n",
       "    </tr>\n",
       "    <tr>\n",
       "      <th>Russian Federation</th>\n",
       "      <td>42752.715328</td>\n",
       "    </tr>\n",
       "    <tr>\n",
       "      <th>...</th>\n",
       "      <td>...</td>\n",
       "    </tr>\n",
       "    <tr>\n",
       "      <th>Kiribati</th>\n",
       "      <td>20.851064</td>\n",
       "    </tr>\n",
       "    <tr>\n",
       "      <th>Grenada</th>\n",
       "      <td>20.116667</td>\n",
       "    </tr>\n",
       "    <tr>\n",
       "      <th>Bermuda</th>\n",
       "      <td>15.184466</td>\n",
       "    </tr>\n",
       "    <tr>\n",
       "      <th>Antigua and Barbuda</th>\n",
       "      <td>15.153846</td>\n",
       "    </tr>\n",
       "    <tr>\n",
       "      <th>Saint Kitts and Nevis</th>\n",
       "      <td>8.656566</td>\n",
       "    </tr>\n",
       "  </tbody>\n",
       "</table>\n",
       "<p>174 rows × 1 columns</p>\n",
       "</div>"
      ],
      "text/plain": [
       "                           total_supply\n",
       "area                                   \n",
       "China, mainland           293311.630137\n",
       "India                     135584.485075\n",
       "United States of America  114343.971631\n",
       "Brazil                     46586.036496\n",
       "Russian Federation         42752.715328\n",
       "...                                 ...\n",
       "Kiribati                      20.851064\n",
       "Grenada                       20.116667\n",
       "Bermuda                       15.184466\n",
       "Antigua and Barbuda           15.153846\n",
       "Saint Kitts and Nevis          8.656566\n",
       "\n",
       "[174 rows x 1 columns]"
      ]
     },
     "execution_count": 29,
     "metadata": {},
     "output_type": "execute_result"
    }
   ],
   "source": [
    "#checkin order of high supply\n",
    "supply"
   ]
  },
  {
   "cell_type": "markdown",
   "metadata": {},
   "source": [
    "##### NB/: SECOND OBJECTIVE ACHIEVED I.E area/country with higghet supply of food and feed.\n",
    "\n",
    "..*Found out that China,Mainland has the highest supply over period of 2000-2013 with supply of (293,311.63) followed by India with (135,584.485075) then USA(114,343.971631)\n"
   ]
  },
  {
   "cell_type": "code",
   "execution_count": null,
   "metadata": {},
   "outputs": [],
   "source": []
  },
  {
   "cell_type": "code",
   "execution_count": 30,
   "metadata": {},
   "outputs": [
    {
     "data": {
      "text/html": [
       "<div>\n",
       "<style scoped>\n",
       "    .dataframe tbody tr th:only-of-type {\n",
       "        vertical-align: middle;\n",
       "    }\n",
       "\n",
       "    .dataframe tbody tr th {\n",
       "        vertical-align: top;\n",
       "    }\n",
       "\n",
       "    .dataframe thead th {\n",
       "        text-align: right;\n",
       "    }\n",
       "</style>\n",
       "<table border=\"1\" class=\"dataframe\">\n",
       "  <thead>\n",
       "    <tr style=\"text-align: right;\">\n",
       "      <th></th>\n",
       "      <th>area_abbreviation</th>\n",
       "      <th>area_code</th>\n",
       "      <th>area</th>\n",
       "      <th>item_code</th>\n",
       "      <th>item</th>\n",
       "      <th>element_code</th>\n",
       "      <th>element</th>\n",
       "      <th>unit</th>\n",
       "      <th>latitude</th>\n",
       "      <th>longitude</th>\n",
       "      <th>...</th>\n",
       "      <th>y2005</th>\n",
       "      <th>y2006</th>\n",
       "      <th>y2007</th>\n",
       "      <th>y2008</th>\n",
       "      <th>y2009</th>\n",
       "      <th>y2010</th>\n",
       "      <th>y2011</th>\n",
       "      <th>y2012</th>\n",
       "      <th>y2013</th>\n",
       "      <th>total_supply</th>\n",
       "    </tr>\n",
       "  </thead>\n",
       "  <tbody>\n",
       "    <tr>\n",
       "      <th>21472</th>\n",
       "      <td>ZWE</td>\n",
       "      <td>181</td>\n",
       "      <td>Zimbabwe</td>\n",
       "      <td>2948</td>\n",
       "      <td>Milk - Excluding Butter</td>\n",
       "      <td>5142</td>\n",
       "      <td>Food</td>\n",
       "      <td>1000 tonnes</td>\n",
       "      <td>-19.02</td>\n",
       "      <td>29.15</td>\n",
       "      <td>...</td>\n",
       "      <td>357.0</td>\n",
       "      <td>359.0</td>\n",
       "      <td>356.0</td>\n",
       "      <td>341.0</td>\n",
       "      <td>385.0</td>\n",
       "      <td>418.0</td>\n",
       "      <td>457.0</td>\n",
       "      <td>426</td>\n",
       "      <td>451</td>\n",
       "      <td>6628.0</td>\n",
       "    </tr>\n",
       "    <tr>\n",
       "      <th>21473</th>\n",
       "      <td>ZWE</td>\n",
       "      <td>181</td>\n",
       "      <td>Zimbabwe</td>\n",
       "      <td>2960</td>\n",
       "      <td>Fish, Seafood</td>\n",
       "      <td>5521</td>\n",
       "      <td>Feed</td>\n",
       "      <td>1000 tonnes</td>\n",
       "      <td>-19.02</td>\n",
       "      <td>29.15</td>\n",
       "      <td>...</td>\n",
       "      <td>4.0</td>\n",
       "      <td>9.0</td>\n",
       "      <td>6.0</td>\n",
       "      <td>9.0</td>\n",
       "      <td>5.0</td>\n",
       "      <td>15.0</td>\n",
       "      <td>15.0</td>\n",
       "      <td>15</td>\n",
       "      <td>15</td>\n",
       "      <td>132.0</td>\n",
       "    </tr>\n",
       "    <tr>\n",
       "      <th>21474</th>\n",
       "      <td>ZWE</td>\n",
       "      <td>181</td>\n",
       "      <td>Zimbabwe</td>\n",
       "      <td>2960</td>\n",
       "      <td>Fish, Seafood</td>\n",
       "      <td>5142</td>\n",
       "      <td>Food</td>\n",
       "      <td>1000 tonnes</td>\n",
       "      <td>-19.02</td>\n",
       "      <td>29.15</td>\n",
       "      <td>...</td>\n",
       "      <td>14.0</td>\n",
       "      <td>17.0</td>\n",
       "      <td>14.0</td>\n",
       "      <td>15.0</td>\n",
       "      <td>18.0</td>\n",
       "      <td>29.0</td>\n",
       "      <td>40.0</td>\n",
       "      <td>40</td>\n",
       "      <td>40</td>\n",
       "      <td>397.0</td>\n",
       "    </tr>\n",
       "    <tr>\n",
       "      <th>21475</th>\n",
       "      <td>ZWE</td>\n",
       "      <td>181</td>\n",
       "      <td>Zimbabwe</td>\n",
       "      <td>2961</td>\n",
       "      <td>Aquatic Products, Other</td>\n",
       "      <td>5142</td>\n",
       "      <td>Food</td>\n",
       "      <td>1000 tonnes</td>\n",
       "      <td>-19.02</td>\n",
       "      <td>29.15</td>\n",
       "      <td>...</td>\n",
       "      <td>0.0</td>\n",
       "      <td>0.0</td>\n",
       "      <td>0.0</td>\n",
       "      <td>0.0</td>\n",
       "      <td>0.0</td>\n",
       "      <td>0.0</td>\n",
       "      <td>0.0</td>\n",
       "      <td>0</td>\n",
       "      <td>0</td>\n",
       "      <td>0.0</td>\n",
       "    </tr>\n",
       "    <tr>\n",
       "      <th>21476</th>\n",
       "      <td>ZWE</td>\n",
       "      <td>181</td>\n",
       "      <td>Zimbabwe</td>\n",
       "      <td>2928</td>\n",
       "      <td>Miscellaneous</td>\n",
       "      <td>5142</td>\n",
       "      <td>Food</td>\n",
       "      <td>1000 tonnes</td>\n",
       "      <td>-19.02</td>\n",
       "      <td>29.15</td>\n",
       "      <td>...</td>\n",
       "      <td>0.0</td>\n",
       "      <td>0.0</td>\n",
       "      <td>0.0</td>\n",
       "      <td>0.0</td>\n",
       "      <td>0.0</td>\n",
       "      <td>0.0</td>\n",
       "      <td>0.0</td>\n",
       "      <td>0</td>\n",
       "      <td>0</td>\n",
       "      <td>0.0</td>\n",
       "    </tr>\n",
       "  </tbody>\n",
       "</table>\n",
       "<p>5 rows × 25 columns</p>\n",
       "</div>"
      ],
      "text/plain": [
       "      area_abbreviation  area_code      area  item_code  \\\n",
       "21472               ZWE        181  Zimbabwe       2948   \n",
       "21473               ZWE        181  Zimbabwe       2960   \n",
       "21474               ZWE        181  Zimbabwe       2960   \n",
       "21475               ZWE        181  Zimbabwe       2961   \n",
       "21476               ZWE        181  Zimbabwe       2928   \n",
       "\n",
       "                          item  element_code element         unit  latitude  \\\n",
       "21472  Milk - Excluding Butter          5142    Food  1000 tonnes    -19.02   \n",
       "21473            Fish, Seafood          5521    Feed  1000 tonnes    -19.02   \n",
       "21474            Fish, Seafood          5142    Food  1000 tonnes    -19.02   \n",
       "21475  Aquatic Products, Other          5142    Food  1000 tonnes    -19.02   \n",
       "21476            Miscellaneous          5142    Food  1000 tonnes    -19.02   \n",
       "\n",
       "       longitude  ...  y2005  y2006  y2007  y2008  y2009  y2010  y2011  y2012  \\\n",
       "21472      29.15  ...  357.0  359.0  356.0  341.0  385.0  418.0  457.0    426   \n",
       "21473      29.15  ...    4.0    9.0    6.0    9.0    5.0   15.0   15.0     15   \n",
       "21474      29.15  ...   14.0   17.0   14.0   15.0   18.0   29.0   40.0     40   \n",
       "21475      29.15  ...    0.0    0.0    0.0    0.0    0.0    0.0    0.0      0   \n",
       "21476      29.15  ...    0.0    0.0    0.0    0.0    0.0    0.0    0.0      0   \n",
       "\n",
       "       y2013  total_supply  \n",
       "21472    451        6628.0  \n",
       "21473     15         132.0  \n",
       "21474     40         397.0  \n",
       "21475      0           0.0  \n",
       "21476      0           0.0  \n",
       "\n",
       "[5 rows x 25 columns]"
      ]
     },
     "execution_count": 30,
     "metadata": {},
     "output_type": "execute_result"
    }
   ],
   "source": [
    "fao_df.tail()"
   ]
  },
  {
   "cell_type": "code",
   "execution_count": 31,
   "metadata": {},
   "outputs": [
    {
     "data": {
      "text/html": [
       "<div>\n",
       "<style scoped>\n",
       "    .dataframe tbody tr th:only-of-type {\n",
       "        vertical-align: middle;\n",
       "    }\n",
       "\n",
       "    .dataframe tbody tr th {\n",
       "        vertical-align: top;\n",
       "    }\n",
       "\n",
       "    .dataframe thead th {\n",
       "        text-align: right;\n",
       "    }\n",
       "</style>\n",
       "<table border=\"1\" class=\"dataframe\">\n",
       "  <thead>\n",
       "    <tr style=\"text-align: right;\">\n",
       "      <th></th>\n",
       "      <th>area_code</th>\n",
       "      <th>item_code</th>\n",
       "      <th>element_code</th>\n",
       "      <th>latitude</th>\n",
       "      <th>longitude</th>\n",
       "      <th>y2000</th>\n",
       "      <th>y2001</th>\n",
       "      <th>y2002</th>\n",
       "      <th>y2003</th>\n",
       "      <th>y2004</th>\n",
       "      <th>y2005</th>\n",
       "      <th>y2006</th>\n",
       "      <th>y2007</th>\n",
       "      <th>y2008</th>\n",
       "      <th>y2009</th>\n",
       "      <th>y2010</th>\n",
       "      <th>y2011</th>\n",
       "      <th>y2012</th>\n",
       "      <th>y2013</th>\n",
       "      <th>total_supply</th>\n",
       "    </tr>\n",
       "  </thead>\n",
       "  <tbody>\n",
       "    <tr>\n",
       "      <th>count</th>\n",
       "      <td>21477.000000</td>\n",
       "      <td>21477.000000</td>\n",
       "      <td>21477.000000</td>\n",
       "      <td>21477.000000</td>\n",
       "      <td>21477.000000</td>\n",
       "      <td>21477.000000</td>\n",
       "      <td>21477.00000</td>\n",
       "      <td>21477.000000</td>\n",
       "      <td>21477.000000</td>\n",
       "      <td>21477.000000</td>\n",
       "      <td>21477.000000</td>\n",
       "      <td>21477.000000</td>\n",
       "      <td>21477.000000</td>\n",
       "      <td>21477.000000</td>\n",
       "      <td>21477.000000</td>\n",
       "      <td>21477.000000</td>\n",
       "      <td>21477.000000</td>\n",
       "      <td>21477.000000</td>\n",
       "      <td>21477.000000</td>\n",
       "      <td>2.147700e+04</td>\n",
       "    </tr>\n",
       "    <tr>\n",
       "      <th>mean</th>\n",
       "      <td>125.449411</td>\n",
       "      <td>2694.211529</td>\n",
       "      <td>5211.687154</td>\n",
       "      <td>20.450613</td>\n",
       "      <td>15.794445</td>\n",
       "      <td>444.511803</td>\n",
       "      <td>451.36709</td>\n",
       "      <td>457.992783</td>\n",
       "      <td>465.109559</td>\n",
       "      <td>478.879546</td>\n",
       "      <td>485.237044</td>\n",
       "      <td>493.949853</td>\n",
       "      <td>506.053732</td>\n",
       "      <td>520.346976</td>\n",
       "      <td>522.075662</td>\n",
       "      <td>532.932905</td>\n",
       "      <td>550.758206</td>\n",
       "      <td>560.569214</td>\n",
       "      <td>575.557480</td>\n",
       "      <td>8.378877e+03</td>\n",
       "    </tr>\n",
       "    <tr>\n",
       "      <th>std</th>\n",
       "      <td>72.868149</td>\n",
       "      <td>148.973406</td>\n",
       "      <td>146.820079</td>\n",
       "      <td>24.628336</td>\n",
       "      <td>66.012104</td>\n",
       "      <td>4611.991301</td>\n",
       "      <td>4713.17818</td>\n",
       "      <td>4829.253773</td>\n",
       "      <td>4871.504827</td>\n",
       "      <td>4961.346599</td>\n",
       "      <td>5058.822548</td>\n",
       "      <td>5122.483937</td>\n",
       "      <td>5286.208507</td>\n",
       "      <td>5483.489096</td>\n",
       "      <td>5532.611256</td>\n",
       "      <td>5707.338018</td>\n",
       "      <td>5868.931719</td>\n",
       "      <td>6047.950804</td>\n",
       "      <td>6218.379479</td>\n",
       "      <td>8.766924e+04</td>\n",
       "    </tr>\n",
       "    <tr>\n",
       "      <th>min</th>\n",
       "      <td>1.000000</td>\n",
       "      <td>2511.000000</td>\n",
       "      <td>5142.000000</td>\n",
       "      <td>-40.900000</td>\n",
       "      <td>-172.100000</td>\n",
       "      <td>0.000000</td>\n",
       "      <td>0.00000</td>\n",
       "      <td>0.000000</td>\n",
       "      <td>0.000000</td>\n",
       "      <td>0.000000</td>\n",
       "      <td>0.000000</td>\n",
       "      <td>0.000000</td>\n",
       "      <td>0.000000</td>\n",
       "      <td>0.000000</td>\n",
       "      <td>0.000000</td>\n",
       "      <td>0.000000</td>\n",
       "      <td>0.000000</td>\n",
       "      <td>-169.000000</td>\n",
       "      <td>-246.000000</td>\n",
       "      <td>0.000000e+00</td>\n",
       "    </tr>\n",
       "    <tr>\n",
       "      <th>25%</th>\n",
       "      <td>63.000000</td>\n",
       "      <td>2561.000000</td>\n",
       "      <td>5142.000000</td>\n",
       "      <td>6.430000</td>\n",
       "      <td>-11.780000</td>\n",
       "      <td>0.000000</td>\n",
       "      <td>0.00000</td>\n",
       "      <td>0.000000</td>\n",
       "      <td>0.000000</td>\n",
       "      <td>0.000000</td>\n",
       "      <td>0.000000</td>\n",
       "      <td>0.000000</td>\n",
       "      <td>0.000000</td>\n",
       "      <td>0.000000</td>\n",
       "      <td>0.000000</td>\n",
       "      <td>0.000000</td>\n",
       "      <td>0.000000</td>\n",
       "      <td>0.000000</td>\n",
       "      <td>0.000000</td>\n",
       "      <td>6.000000e+00</td>\n",
       "    </tr>\n",
       "    <tr>\n",
       "      <th>50%</th>\n",
       "      <td>120.000000</td>\n",
       "      <td>2640.000000</td>\n",
       "      <td>5142.000000</td>\n",
       "      <td>20.590000</td>\n",
       "      <td>19.150000</td>\n",
       "      <td>5.000000</td>\n",
       "      <td>6.00000</td>\n",
       "      <td>6.000000</td>\n",
       "      <td>6.000000</td>\n",
       "      <td>6.000000</td>\n",
       "      <td>6.000000</td>\n",
       "      <td>7.000000</td>\n",
       "      <td>7.000000</td>\n",
       "      <td>7.000000</td>\n",
       "      <td>7.000000</td>\n",
       "      <td>7.000000</td>\n",
       "      <td>8.000000</td>\n",
       "      <td>8.000000</td>\n",
       "      <td>8.000000</td>\n",
       "      <td>1.220000e+02</td>\n",
       "    </tr>\n",
       "    <tr>\n",
       "      <th>75%</th>\n",
       "      <td>188.000000</td>\n",
       "      <td>2782.000000</td>\n",
       "      <td>5142.000000</td>\n",
       "      <td>41.150000</td>\n",
       "      <td>46.870000</td>\n",
       "      <td>64.000000</td>\n",
       "      <td>65.00000</td>\n",
       "      <td>67.000000</td>\n",
       "      <td>68.000000</td>\n",
       "      <td>72.000000</td>\n",
       "      <td>74.000000</td>\n",
       "      <td>77.000000</td>\n",
       "      <td>79.000000</td>\n",
       "      <td>80.000000</td>\n",
       "      <td>81.000000</td>\n",
       "      <td>82.000000</td>\n",
       "      <td>85.000000</td>\n",
       "      <td>88.000000</td>\n",
       "      <td>90.000000</td>\n",
       "      <td>1.330000e+03</td>\n",
       "    </tr>\n",
       "    <tr>\n",
       "      <th>max</th>\n",
       "      <td>276.000000</td>\n",
       "      <td>2961.000000</td>\n",
       "      <td>5521.000000</td>\n",
       "      <td>64.960000</td>\n",
       "      <td>179.410000</td>\n",
       "      <td>311110.000000</td>\n",
       "      <td>327370.00000</td>\n",
       "      <td>352172.000000</td>\n",
       "      <td>354850.000000</td>\n",
       "      <td>360767.000000</td>\n",
       "      <td>373694.000000</td>\n",
       "      <td>388100.000000</td>\n",
       "      <td>402975.000000</td>\n",
       "      <td>425537.000000</td>\n",
       "      <td>434724.000000</td>\n",
       "      <td>451838.000000</td>\n",
       "      <td>462696.000000</td>\n",
       "      <td>479028.000000</td>\n",
       "      <td>489299.000000</td>\n",
       "      <td>6.547490e+06</td>\n",
       "    </tr>\n",
       "  </tbody>\n",
       "</table>\n",
       "</div>"
      ],
      "text/plain": [
       "          area_code     item_code  element_code      latitude     longitude  \\\n",
       "count  21477.000000  21477.000000  21477.000000  21477.000000  21477.000000   \n",
       "mean     125.449411   2694.211529   5211.687154     20.450613     15.794445   \n",
       "std       72.868149    148.973406    146.820079     24.628336     66.012104   \n",
       "min        1.000000   2511.000000   5142.000000    -40.900000   -172.100000   \n",
       "25%       63.000000   2561.000000   5142.000000      6.430000    -11.780000   \n",
       "50%      120.000000   2640.000000   5142.000000     20.590000     19.150000   \n",
       "75%      188.000000   2782.000000   5142.000000     41.150000     46.870000   \n",
       "max      276.000000   2961.000000   5521.000000     64.960000    179.410000   \n",
       "\n",
       "               y2000         y2001          y2002          y2003  \\\n",
       "count   21477.000000   21477.00000   21477.000000   21477.000000   \n",
       "mean      444.511803     451.36709     457.992783     465.109559   \n",
       "std      4611.991301    4713.17818    4829.253773    4871.504827   \n",
       "min         0.000000       0.00000       0.000000       0.000000   \n",
       "25%         0.000000       0.00000       0.000000       0.000000   \n",
       "50%         5.000000       6.00000       6.000000       6.000000   \n",
       "75%        64.000000      65.00000      67.000000      68.000000   \n",
       "max    311110.000000  327370.00000  352172.000000  354850.000000   \n",
       "\n",
       "               y2004          y2005          y2006          y2007  \\\n",
       "count   21477.000000   21477.000000   21477.000000   21477.000000   \n",
       "mean      478.879546     485.237044     493.949853     506.053732   \n",
       "std      4961.346599    5058.822548    5122.483937    5286.208507   \n",
       "min         0.000000       0.000000       0.000000       0.000000   \n",
       "25%         0.000000       0.000000       0.000000       0.000000   \n",
       "50%         6.000000       6.000000       7.000000       7.000000   \n",
       "75%        72.000000      74.000000      77.000000      79.000000   \n",
       "max    360767.000000  373694.000000  388100.000000  402975.000000   \n",
       "\n",
       "               y2008          y2009          y2010          y2011  \\\n",
       "count   21477.000000   21477.000000   21477.000000   21477.000000   \n",
       "mean      520.346976     522.075662     532.932905     550.758206   \n",
       "std      5483.489096    5532.611256    5707.338018    5868.931719   \n",
       "min         0.000000       0.000000       0.000000       0.000000   \n",
       "25%         0.000000       0.000000       0.000000       0.000000   \n",
       "50%         7.000000       7.000000       7.000000       8.000000   \n",
       "75%        80.000000      81.000000      82.000000      85.000000   \n",
       "max    425537.000000  434724.000000  451838.000000  462696.000000   \n",
       "\n",
       "               y2012          y2013  total_supply  \n",
       "count   21477.000000   21477.000000  2.147700e+04  \n",
       "mean      560.569214     575.557480  8.378877e+03  \n",
       "std      6047.950804    6218.379479  8.766924e+04  \n",
       "min      -169.000000    -246.000000  0.000000e+00  \n",
       "25%         0.000000       0.000000  6.000000e+00  \n",
       "50%         8.000000       8.000000  1.220000e+02  \n",
       "75%        88.000000      90.000000  1.330000e+03  \n",
       "max    479028.000000  489299.000000  6.547490e+06  "
      ]
     },
     "execution_count": 31,
     "metadata": {},
     "output_type": "execute_result"
    }
   ],
   "source": [
    "#CHECKING year with highest produce\n",
    "\n",
    "fao_df.describe()"
   ]
  },
  {
   "cell_type": "code",
   "execution_count": 32,
   "metadata": {},
   "outputs": [],
   "source": [
    "fao_df_year=fao_df['y2000'].mean(),fao_df['y2001'].mean(),fao_df['y2002'].mean(),fao_df['y2003'].mean(),fao_df['y2004'].mean(),fao_df['y2005'].mean(),fao_df['y2006'].mean(),fao_df['y2007'].mean(),fao_df['y2008'].mean(),fao_df['y2009'].mean(),fao_df['y2010'].mean(),fao_df['y2011'].mean(),fao_df['y2012'].mean(),fao_df['y2013'].mean()"
   ]
  },
  {
   "cell_type": "code",
   "execution_count": 33,
   "metadata": {},
   "outputs": [
    {
     "data": {
      "text/plain": [
       "(444.51180332448666,\n",
       " 451.3670903757508,\n",
       " 457.99278297713835,\n",
       " 465.1095590631839,\n",
       " 478.8795455603669,\n",
       " 485.2370442799274,\n",
       " 493.9498533314709,\n",
       " 506.05373189924103,\n",
       " 520.3469758346138,\n",
       " 522.075662336453,\n",
       " 532.9329049681054,\n",
       " 550.7582064534153,\n",
       " 560.5692135773153,\n",
       " 575.5574800949853)"
      ]
     },
     "execution_count": 33,
     "metadata": {},
     "output_type": "execute_result"
    }
   ],
   "source": [
    "fao_df_year"
   ]
  },
  {
   "cell_type": "markdown",
   "metadata": {},
   "source": [
    "#### NB/:THIRD OBJECTIVE:YEAR WITH HIGHEST PRODUCE\n",
    "****Year2013 is the year in which the produce is highest"
   ]
  },
  {
   "cell_type": "code",
   "execution_count": null,
   "metadata": {},
   "outputs": [],
   "source": []
  },
  {
   "cell_type": "code",
   "execution_count": null,
   "metadata": {},
   "outputs": [],
   "source": []
  },
  {
   "cell_type": "markdown",
   "metadata": {},
   "source": [
    "### CHECKING OUTLIERS IN DATASET"
   ]
  },
  {
   "cell_type": "markdown",
   "metadata": {},
   "source": [
    "######                            ******** checking outliers in total  supply !!!!!!!!!!"
   ]
  },
  {
   "cell_type": "code",
   "execution_count": 105,
   "metadata": {},
   "outputs": [
    {
     "data": {
      "text/plain": [
       "<matplotlib.axes._subplots.AxesSubplot at 0x2180669bd00>"
      ]
     },
     "execution_count": 105,
     "metadata": {},
     "output_type": "execute_result"
    },
    {
     "data": {
      "image/png": "[encoded data removed]",
      "text/plain": [
       "<Figure size 1080x576 with 1 Axes>"
      ]
     },
     "metadata": {
      "needs_background": "light"
     },
     "output_type": "display_data"
    }
   ],
   "source": [
    "#WE USE BOXPLOT OR WHISKEY PLOT/VIOLIN TO DETECT OUTLIERS\n",
    "#x=fao_df['total_supply','element_code','item_code']\n",
    "plt.figure(figsize=(15,8))\n",
    "sns.violinplot(fao_df['total_supply'])"
   ]
  },
  {
   "cell_type": "code",
   "execution_count": 104,
   "metadata": {},
   "outputs": [
    {
     "data": {
      "text/plain": [
       "<matplotlib.axes._subplots.AxesSubplot at 0x218064ae9d0>"
      ]
     },
     "execution_count": 104,
     "metadata": {},
     "output_type": "execute_result"
    },
    {
     "data": {
      "image/png": "[encoded data removed]",
      "text/plain": [
       "<Figure size 1080x576 with 1 Axes>"
      ]
     },
     "metadata": {
      "needs_background": "light"
     },
     "output_type": "display_data"
    }
   ],
   "source": [
    "plt.figure(figsize=(15,8))\n",
    "sns.boxplot(fao_df['total_supply'])"
   ]
  },
  {
   "cell_type": "markdown",
   "metadata": {},
   "source": [
    "##### NB/:---------------------There  are outliers  in total  supply "
   ]
  },
  {
   "cell_type": "markdown",
   "metadata": {},
   "source": []
  },
  {
   "cell_type": "markdown",
   "metadata": {},
   "source": [
    "######                            ******** checking outliers in item  codes !!!!!!!!!!"
   ]
  },
  {
   "cell_type": "code",
   "execution_count": 112,
   "metadata": {},
   "outputs": [
    {
     "data": {
      "text/plain": [
       "<matplotlib.axes._subplots.AxesSubplot at 0x21806ffb610>"
      ]
     },
     "execution_count": 112,
     "metadata": {},
     "output_type": "execute_result"
    },
    {
     "data": {
      "image/png": "[encoded data removed]",
      "text/plain": [
       "<Figure size 1080x576 with 1 Axes>"
      ]
     },
     "metadata": {
      "needs_background": "light"
     },
     "output_type": "display_data"
    }
   ],
   "source": [
    "plt.figure(figsize=(15,8))\n",
    "sns.boxplot(fao_df['item_code'])"
   ]
  },
  {
   "cell_type": "markdown",
   "metadata": {},
   "source": [
    "##### NB/:---------------------There  are NO: outliers  in ITEM Codes  "
   ]
  },
  {
   "cell_type": "code",
   "execution_count": null,
   "metadata": {},
   "outputs": [],
   "source": []
  },
  {
   "cell_type": "markdown",
   "metadata": {},
   "source": [
    "######                            ******** checking outliers in area codes !!!!!!!!!!"
   ]
  },
  {
   "cell_type": "code",
   "execution_count": 113,
   "metadata": {},
   "outputs": [
    {
     "data": {
      "text/plain": [
       "<matplotlib.axes._subplots.AxesSubplot at 0x21806f3c9a0>"
      ]
     },
     "execution_count": 113,
     "metadata": {},
     "output_type": "execute_result"
    },
    {
     "data": {
      "image/png": "[encoded data removed]",
      "text/plain": [
       "<Figure size 1080x576 with 1 Axes>"
      ]
     },
     "metadata": {
      "needs_background": "light"
     },
     "output_type": "display_data"
    }
   ],
   "source": [
    "plt.figure(figsize=(15,8))\n",
    "sns.boxplot(fao_df['area_code'])"
   ]
  },
  {
   "cell_type": "markdown",
   "metadata": {},
   "source": []
  },
  {
   "cell_type": "markdown",
   "metadata": {},
   "source": [
    "##### NB/:---------------------There  are NO outliers  in AREA CODES  "
   ]
  },
  {
   "cell_type": "markdown",
   "metadata": {},
   "source": []
  },
  {
   "cell_type": "markdown",
   "metadata": {},
   "source": [
    "######                            ******** checking outliers in latitudes!!!!!!!!!!"
   ]
  },
  {
   "cell_type": "code",
   "execution_count": 114,
   "metadata": {},
   "outputs": [
    {
     "data": {
      "text/plain": [
       "<matplotlib.axes._subplots.AxesSubplot at 0x218070d0790>"
      ]
     },
     "execution_count": 114,
     "metadata": {},
     "output_type": "execute_result"
    },
    {
     "data": {
      "image/png": "[encoded data removed]",
      "text/plain": [
       "<Figure size 1080x576 with 1 Axes>"
      ]
     },
     "metadata": {
      "needs_background": "light"
     },
     "output_type": "display_data"
    },
    {
     "data": {
      "image/png": "[encoded data removed]",
      "text/plain": [
       "<Figure size 1080x576 with 1 Axes>"
      ]
     },
     "metadata": {
      "needs_background": "light"
     },
     "output_type": "display_data"
    }
   ],
   "source": [
    "plt.figure(figsize=(15,8))\n",
    "sns.violinplot(fao_df['latitude'])\n",
    "\n",
    "plt.figure(figsize=(15,8))\n",
    "sns.boxplot(fao_df['latitude'])"
   ]
  },
  {
   "cell_type": "markdown",
   "metadata": {},
   "source": [
    "##### NB/:---------------------There  are NO outliers  in LATITUDES "
   ]
  },
  {
   "cell_type": "code",
   "execution_count": null,
   "metadata": {},
   "outputs": [],
   "source": []
  },
  {
   "cell_type": "markdown",
   "metadata": {},
   "source": [
    "######                            ******** checking outliers in longitudes!!!!!!!!!!"
   ]
  },
  {
   "cell_type": "code",
   "execution_count": 115,
   "metadata": {},
   "outputs": [
    {
     "data": {
      "text/plain": [
       "<matplotlib.axes._subplots.AxesSubplot at 0x218072b7520>"
      ]
     },
     "execution_count": 115,
     "metadata": {},
     "output_type": "execute_result"
    },
    {
     "data": {
      "image/png": "[encoded data removed]",
      "text/plain": [
       "<Figure size 1080x576 with 1 Axes>"
      ]
     },
     "metadata": {
      "needs_background": "light"
     },
     "output_type": "display_data"
    },
    {
     "data": {
      "image/png": "[encoded data removed]",
      "text/plain": [
       "<Figure size 1080x576 with 1 Axes>"
      ]
     },
     "metadata": {
      "needs_background": "light"
     },
     "output_type": "display_data"
    }
   ],
   "source": [
    "plt.figure(figsize=(15,8))\n",
    "sns.boxplot(fao_df['longitude'])\n",
    "\n",
    "plt.figure(figsize=(15,8))\n",
    "sns.violinplot(fao_df['longitude'])"
   ]
  },
  {
   "cell_type": "markdown",
   "metadata": {},
   "source": [
    "##### NB/:---------------------There  are outliers  in LONGITUDES"
   ]
  },
  {
   "cell_type": "code",
   "execution_count": null,
   "metadata": {},
   "outputs": [],
   "source": []
  },
  {
   "cell_type": "code",
   "execution_count": null,
   "metadata": {},
   "outputs": [],
   "source": []
  },
  {
   "cell_type": "code",
   "execution_count": null,
   "metadata": {},
   "outputs": [],
   "source": []
  },
  {
   "cell_type": "markdown",
   "metadata": {},
   "source": [
    "#  DATA VISUALIZATION AND ANALYSIS"
   ]
  },
  {
   "cell_type": "code",
   "execution_count": null,
   "metadata": {},
   "outputs": [],
   "source": [
    "# creating a heatmap of data matrix\n",
    "plt.figure(figsize=(10,8))\n",
    "sns.heatmap(fao_df.corr(),annot=True,vmax=1,vmin=-1)"
   ]
  },
  {
   "cell_type": "code",
   "execution_count": 68,
   "metadata": {},
   "outputs": [
    {
     "data": {
      "image/png": "[encoded data removed]",
      "text/plain": [
       "<Figure size 1440x720 with 1 Axes>"
      ]
     },
     "metadata": {
      "needs_background": "light"
     },
     "output_type": "display_data"
    }
   ],
   "source": [
    "plt.figure(figsize=(20,10))\n",
    "fao_df['item'].value_counts().plot(kind='kde',rot=15)\n",
    "plt.title('VISUAL OF DIFFRENT  OF fao items BEING produced',color='green',fontsize=25)\n",
    "plt.show()"
   ]
  },
  {
   "cell_type": "code",
   "execution_count": 42,
   "metadata": {},
   "outputs": [
    {
     "data": {
      "text/plain": [
       "<matplotlib.axes._subplots.AxesSubplot at 0x2187101e220>"
      ]
     },
     "execution_count": 42,
     "metadata": {},
     "output_type": "execute_result"
    },
    {
     "data": {
      "image/png": "[encoded data removed]",
      "text/plain": [
       "<Figure size 432x288 with 1 Axes>"
      ]
     },
     "metadata": {
      "needs_background": "light"
     },
     "output_type": "display_data"
    }
   ],
   "source": [
    "sns.barplot(fao_df['total_supply'])"
   ]
  },
  {
   "cell_type": "code",
   "execution_count": 44,
   "metadata": {},
   "outputs": [
    {
     "data": {
      "text/plain": [
       "<matplotlib.axes._subplots.AxesSubplot at 0x21871051460>"
      ]
     },
     "execution_count": 44,
     "metadata": {},
     "output_type": "execute_result"
    },
    {
     "data": {
      "image/png": "[encoded data removed]",
      "text/plain": [
       "<Figure size 432x288 with 1 Axes>"
      ]
     },
     "metadata": {
      "needs_background": "light"
     },
     "output_type": "display_data"
    }
   ],
   "source": [
    "#displaying elements\n",
    "sns.countplot(x='element', data=fao_df)"
   ]
  },
  {
   "cell_type": "markdown",
   "metadata": {},
   "source": [
    "###### ******Food is the main element in the world compared o feed"
   ]
  },
  {
   "cell_type": "code",
   "execution_count": null,
   "metadata": {},
   "outputs": [],
   "source": []
  },
  {
   "cell_type": "code",
   "execution_count": null,
   "metadata": {},
   "outputs": [],
   "source": []
  },
  {
   "cell_type": "code",
   "execution_count": 53,
   "metadata": {},
   "outputs": [
    {
     "data": {
      "text/plain": [
       "<matplotlib.axes._subplots.AxesSubplot at 0x218784e68e0>"
      ]
     },
     "execution_count": 53,
     "metadata": {},
     "output_type": "execute_result"
    },
    {
     "data": {
      "image/png": "[encoded data removed]",
      "text/plain": [
       "<Figure size 432x288 with 1 Axes>"
      ]
     },
     "metadata": {
      "needs_background": "light"
     },
     "output_type": "display_data"
    }
   ],
   "source": [
    "###displaying element_CODE WITH HIGH COUNT\n",
    "sns.barplot(x=fao_df['element_code'], y=fao_df['total_supply'])"
   ]
  },
  {
   "cell_type": "code",
   "execution_count": null,
   "metadata": {},
   "outputs": [],
   "source": []
  },
  {
   "cell_type": "markdown",
   "metadata": {},
   "source": []
  },
  {
   "cell_type": "code",
   "execution_count": null,
   "metadata": {},
   "outputs": [],
   "source": []
  },
  {
   "cell_type": "markdown",
   "metadata": {},
   "source": [
    "### Food and feed plot for most produced items¶"
   ]
  },
  {
   "cell_type": "code",
   "execution_count": 119,
   "metadata": {},
   "outputs": [
    {
     "data": {
      "image/png": "[encoded data removed]",
      "text/plain": [
       "<Figure size 1211.88x1440 with 1 Axes>"
      ]
     },
     "metadata": {
      "needs_background": "light"
     },
     "output_type": "display_data"
    }
   ],
   "source": [
    "\n",
    "sns.factorplot(\"item\", data=fao_df[(fao_df['item']=='Wheat and products') | (fao_df['item']=='Rice (Milled Equivalent)') | (fao_df['item']=='Maize and products') | (fao_df['item']=='Potatoes and products') | (fao_df['item']=='Vegetables, Other') | (fao_df['item']=='Milk - Excluding Butter') | (fao_df['item']=='Cereals - Excluding Beer') | (fao_df['item']=='Starchy Roots') | (fao_df['item']=='Vegetables') | (fao_df['item']=='Fruits - Excluding Wine')], kind=\"count\", hue=\"element\", size=20, aspect=.8)\n",
    "plt.show()"
   ]
  },
  {
   "cell_type": "code",
   "execution_count": null,
   "metadata": {},
   "outputs": [],
   "source": []
  },
  {
   "cell_type": "code",
   "execution_count": null,
   "metadata": {},
   "outputs": [],
   "source": []
  },
  {
   "cell_type": "markdown",
   "metadata": {},
   "source": [
    "### Food and feed plot for the largest producers(India, USA, China)¶"
   ]
  },
  {
   "cell_type": "code",
   "execution_count": 118,
   "metadata": {},
   "outputs": [
    {
     "name": "stderr",
     "output_type": "stream",
     "text": [
      "C:\\Users\\Admin\\anaconda3\\lib\\site-packages\\seaborn\\categorical.py:3666: UserWarning: The `factorplot` function has been renamed to `catplot`. The original name will be removed in a future release. Please update your code. Note that the default `kind` in `factorplot` (`'point'`) has changed `'strip'` in `catplot`.\n",
      "  warnings.warn(msg)\n",
      "C:\\Users\\Admin\\anaconda3\\lib\\site-packages\\seaborn\\categorical.py:3672: UserWarning: The `size` parameter has been renamed to `height`; please update your code.\n",
      "  warnings.warn(msg, UserWarning)\n"
     ]
    },
    {
     "data": {
      "text/plain": [
       "<seaborn.axisgrid.FacetGrid at 0x21807068eb0>"
      ]
     },
     "execution_count": 118,
     "metadata": {},
     "output_type": "execute_result"
    },
    {
     "data": {
      "image/png": "[encoded data removed]",
      "text/plain": [
       "<Figure size 520.675x576 with 1 Axes>"
      ]
     },
     "metadata": {
      "needs_background": "light"
     },
     "output_type": "display_data"
    }
   ],
   "source": [
    "\n",
    "\n",
    "\n",
    "\n",
    "sns.factorplot(\"area\", data=fao_df[(fao_df['area'] == \"India\") | (fao_df['area'] == \"China, mainland\") | (fao_df['area'] == \"United States of America\")], kind=\"count\", hue=\"element\", size=8, aspect=.8)"
   ]
  },
  {
   "cell_type": "code",
   "execution_count": null,
   "metadata": {},
   "outputs": [],
   "source": []
  },
  {
   "cell_type": "markdown",
   "metadata": {},
   "source": [
    "###  Top Products around the globe"
   ]
  },
  {
   "cell_type": "code",
   "execution_count": 132,
   "metadata": {},
   "outputs": [
    {
     "data": {
      "text/plain": [
       "Text(0.5, 1.0, 'Top 100 items produced around globe')"
      ]
     },
     "execution_count": 132,
     "metadata": {},
     "output_type": "execute_result"
    },
    {
     "data": {
      "image/png": "[encoded data removed]",
      "text/plain": [
       "<Figure size 1080x1440 with 1 Axes>"
      ]
     },
     "metadata": {},
     "output_type": "display_data"
    }
   ],
   "source": [
    "\n",
    "\n",
    "# setting the style to be ggplot\n",
    "plt.style.use(\"dark_background\")\n",
    "\n",
    "items = pd.DataFrame(fao_df.groupby(\"item\")[\"element\"].agg(\"count\").sort_values(ascending=False))[:115]\n",
    "\n",
    "# plotting\n",
    "plt.rcParams['figure.figsize'] = (15, 20)\n",
    "#plt.gcf().subplots_adjust(left = .3)\n",
    "sns.barplot(x = items.element, y = items.index, data = items, palette = 'Reds')\n",
    "plt.gca().set_title(\"Top 100 items produced around globe\", fontsize = 30)"
   ]
  },
  {
   "cell_type": "code",
   "execution_count": null,
   "metadata": {},
   "outputs": [],
   "source": []
  },
  {
   "cell_type": "code",
   "execution_count": null,
   "metadata": {},
   "outputs": [],
   "source": [
    "\n"
   ]
  },
  {
   "cell_type": "code",
   "execution_count": null,
   "metadata": {},
   "outputs": [],
   "source": []
  },
  {
   "cell_type": "code",
   "execution_count": null,
   "metadata": {},
   "outputs": [],
   "source": []
  },
  {
   "cell_type": "markdown",
   "metadata": {},
   "source": [
    "## Geographical Map of Countries in fao"
   ]
  },
  {
   "cell_type": "code",
   "execution_count": 116,
   "metadata": {},
   "outputs": [
    {
     "ename": "ModuleNotFoundError",
     "evalue": "No module named 'plotly'",
     "output_type": "error",
     "traceback": [
      "\u001b[1;31m---------------------------------------------------------------------------\u001b[0m",
      "\u001b[1;31mModuleNotFoundError\u001b[0m                       Traceback (most recent call last)",
      "\u001b[1;32m<ipython-input-116-d75db50bb8ca>\u001b[0m in \u001b[0;36m<module>\u001b[1;34m\u001b[0m\n\u001b[1;32m----> 1\u001b[1;33m \u001b[1;32mimport\u001b[0m \u001b[0mplotly\u001b[0m\u001b[1;33m.\u001b[0m\u001b[0mgraph_objs\u001b[0m \u001b[1;32mas\u001b[0m \u001b[0mgo\u001b[0m\u001b[1;33m\u001b[0m\u001b[1;33m\u001b[0m\u001b[0m\n\u001b[0m\u001b[0;32m      2\u001b[0m \u001b[1;33m\u001b[0m\u001b[0m\n\u001b[0;32m      3\u001b[0m \u001b[1;32mfrom\u001b[0m \u001b[0mplotly\u001b[0m\u001b[1;33m.\u001b[0m\u001b[0moffline\u001b[0m \u001b[1;32mimport\u001b[0m \u001b[0minit_notebook_mode\u001b[0m\u001b[1;33m,\u001b[0m\u001b[0miplot\u001b[0m\u001b[1;33m\u001b[0m\u001b[1;33m\u001b[0m\u001b[0m\n\u001b[0;32m      4\u001b[0m \u001b[1;33m\u001b[0m\u001b[0m\n\u001b[0;32m      5\u001b[0m \u001b[0mdf\u001b[0m \u001b[1;33m=\u001b[0m \u001b[0mfao_df\u001b[0m\u001b[1;33m[\u001b[0m\u001b[1;34m'area'\u001b[0m\u001b[1;33m]\u001b[0m\u001b[1;33m.\u001b[0m\u001b[0mvalue_counts\u001b[0m\u001b[1;33m(\u001b[0m\u001b[1;33m)\u001b[0m\u001b[1;33m.\u001b[0m\u001b[0msort_index\u001b[0m\u001b[1;33m(\u001b[0m\u001b[1;33m)\u001b[0m\u001b[1;33m.\u001b[0m\u001b[0mindex\u001b[0m\u001b[1;33m\u001b[0m\u001b[1;33m\u001b[0m\u001b[0m\n",
      "\u001b[1;31mModuleNotFoundError\u001b[0m: No module named 'plotly'"
     ]
    }
   ],
   "source": [
    "import plotly.graph_objs as go\n",
    "\n",
    "from plotly.offline import init_notebook_mode,iplot\n",
    "\n",
    "df = fao_df['area'].value_counts().sort_index().index\n",
    "df2 = fao_df.groupby('area')['total_supply'].agg('mean')\n",
    "\n",
    "trace = go.Choropleth(\n",
    "    locationmode = 'country names',\n",
    "    locations = df,\n",
    "    text = df,\n",
    "    colorscale = 'Picnic',\n",
    "    z = df2.values\n",
    ")\n",
    "df3 = [trace]\n",
    "layout = go.Layout(\n",
    "    title = 'Mean Production in Differet Parts of World')\n",
    "\n",
    "fig = go.Figure(data = df3, layout = layout)\n",
    "iplot(fig)"
   ]
  },
  {
   "cell_type": "code",
   "execution_count": null,
   "metadata": {},
   "outputs": [],
   "source": []
  }
 ],
 "metadata": {
  "kernelspec": {
   "display_name": "Python 3",
   "language": "python",
   "name": "python3"
  },
  "language_info": {
   "codemirror_mode": {
    "name": "ipython",
    "version": 3
   },
   "file_extension": ".py",
   "mimetype": "text/x-python",
   "name": "python",
   "nbconvert_exporter": "python",
   "pygments_lexer": "ipython3",
   "version": "3.8.3"
  }
 },
 "nbformat": 4,
 "nbformat_minor": 4
}
